{
  "nbformat": 4,
  "nbformat_minor": 0,
  "metadata": {
    "colab": {
      "name": "Contraceptive_Reviews.ipynb",
      "provenance": [],
      "collapsed_sections": [],
      "authorship_tag": "ABX9TyOAxoRD2+1riduunrJGVYoA"
    },
    "kernelspec": {
      "name": "python3",
      "display_name": "Python 3"
    }
  },
  "cells": [
    {
      "cell_type": "markdown",
      "metadata": {
        "id": "-HroGVI4zklc",
        "colab_type": "text"
      },
      "source": [
        "# Part 1: Extract list of all contraceptives listed on WebMD with reviews. "
      ]
    },
    {
      "cell_type": "code",
      "metadata": {
        "id": "nFjS_osizthc",
        "colab_type": "code",
        "colab": {}
      },
      "source": [
        "import pandas as pd\n",
        "import html5lib\n",
        "import requests\n",
        "from bs4 import BeautifulSoup\n",
        "import re\n",
        "import urllib"
      ],
      "execution_count": 0,
      "outputs": []
    },
    {
      "cell_type": "code",
      "metadata": {
        "id": "snjRYp9Wq7Yl",
        "colab_type": "code",
        "colab": {}
      },
      "source": [
        "#extract list of all contraceptives in webmd and save them into a DataFrame\n",
        "contraception_url = \"https://www.webmd.com/drugs/2/condition-3454/pregnancy%20contraception\"\n",
        "\n",
        "header = {\n",
        "  \"User-Agent\": \"Mozilla/5.0 (X11; Linux x86_64) AppleWebKit/537.36 (KHTML, like Gecko) Chrome/50.0.2661.75 Safari/537.36\",\n",
        "  \"X-Requested-With\": \"XMLHttpRequest\"\n",
        "}\n",
        "\n",
        "r = requests.get(contraception_url, headers=header)\n",
        "\n",
        "contraceptives = pd.read_html(r.text)[0]"
      ],
      "execution_count": 0,
      "outputs": []
    },
    {
      "cell_type": "code",
      "metadata": {
        "id": "igPfAXVTuBgJ",
        "colab_type": "code",
        "outputId": "0620d11e-f59f-4360-ee86-4ed0e36ae2ad",
        "colab": {
          "base_uri": "https://localhost:8080/",
          "height": 54
        }
      },
      "source": [
        "#going to extract links to drug reviews\n",
        "req = urllib.request.Request(contraception_url, headers={'User-Agent' : \"Magic Browser\"}) \n",
        "html_page = urllib.request.urlopen( req )\n",
        "soup = BeautifulSoup(html_page)\n",
        "\n",
        "contraceptive_table = soup.find('table', {'class': 'drugs-treatments-table'})\n",
        "review_links = []\n",
        "\n",
        "for drug_link in contraceptive_table.findAll('a'):\n",
        "    link = drug_link.get('href')\n",
        "    if \"drugreview\" in link:\n",
        "      review_links.append(\"https://www.webmd.com\" + link)\n",
        "\n",
        "contraceptives['Review_Link'] = pd.Series(review_links)"
      ],
      "execution_count": 35,
      "outputs": [
        {
          "output_type": "stream",
          "text": [
            "['https://www.webmd.com/drugs/drugreview-20420-mirena-device.aspx?drugid=20420&drugname=mirena-device', 'https://www.webmd.com/drugs/drugreview-64195-sprintec.aspx?drugid=64195&drugname=sprintec', 'https://www.webmd.com/drugs/drugreview-95358-yaz.aspx?drugid=95358&drugname=yaz', 'https://www.webmd.com/drugs/drugreview-78136-tri-sprintec.aspx?drugid=78136&drugname=tri-sprintec', 'https://www.webmd.com/drugs/drugreview-95194-loestrin-24-fe-tablet.aspx?drugid=95194&drugname=loestrin-24-fe-tablet', 'https://www.webmd.com/drugs/drugreview-63410-nuvaring-ring.aspx?drugid=63410&drugname=nuvaring-ring', 'https://www.webmd.com/drugs/drugreview-13028-paragard-t-380-a-device.aspx?drugid=13028&drugname=paragard-t-380-a-device', 'https://www.webmd.com/drugs/drugreview-144857-implanon-implant.aspx?drugid=144857&drugname=implanon-implant', 'https://www.webmd.com/drugs/drugreview-53357-depo-provera-contraceptive-suspension.aspx?drugid=53357&drugname=depo-provera-contraceptive-suspension', 'https://www.webmd.com/drugs/drugreview-156597-nexplanon-implant.aspx?drugid=156597&drugname=nexplanon-implant', 'https://www.webmd.com/drugs/drugreview-78126-trinessa.aspx?drugid=78126&drugname=trinessa', 'https://www.webmd.com/drugs/drugreview-154991-lo-loestrin-fe.aspx?drugid=154991&drugname=lo-loestrin-fe', 'https://www.webmd.com/drugs/drugreview-77116-junel-fe.aspx?drugid=77116&drugname=junel-fe', 'https://www.webmd.com/drugs/drugreview-64714-mononessa.aspx?drugid=64714&drugname=mononessa', 'https://www.webmd.com/drugs/drugreview-155553-generess-fe.aspx?drugid=155553&drugname=generess-fe', 'https://www.webmd.com/drugs/drugreview-144664-seasonique.aspx?drugid=144664&drugname=seasonique', 'https://www.webmd.com/drugs/drugreview-151684-azurette.aspx?drugid=151684&drugname=azurette', 'https://www.webmd.com/drugs/drugreview-164400-minastrin-24-fe.aspx?drugid=164400&drugname=minastrin-24-fe', 'https://www.webmd.com/drugs/drugreview-154717-beyaz.aspx?drugid=154717&drugname=beyaz', 'https://www.webmd.com/drugs/drugreview-150675-ocella.aspx?drugid=150675&drugname=ocella', 'https://www.webmd.com/drugs/drugreview-64062-ortho-tri-cyclen-lo.aspx?drugid=64062&drugname=ortho-tri-cyclen-lo', 'https://www.webmd.com/drugs/drugreview-92163-lutera.aspx?drugid=92163&drugname=lutera', 'https://www.webmd.com/drugs/drugreview-21860-microgestin-fe.aspx?drugid=21860&drugname=microgestin-fe', 'https://www.webmd.com/drugs/drugreview-155761-loryna.aspx?drugid=155761&drugname=loryna', 'https://www.webmd.com/drugs/drugreview-64644-errin.aspx?drugid=64644&drugname=errin', 'https://www.webmd.com/drugs/drugreview-152214-gildess-fe-1-5-30-28-tablet.aspx?drugid=152214&drugname=gildess-fe-1-5-30-28-tablet', 'https://www.webmd.com/drugs/drugreview-17168-necon-1-35-28-tablet.aspx?drugid=17168&drugname=necon-1-35-28-tablet', 'https://www.webmd.com/drugs/drugreview-144410-sronyx.aspx?drugid=144410&drugname=sronyx', 'https://www.webmd.com/drugs/drugreview-89104-tri-previfem.aspx?drugid=89104&drugname=tri-previfem', 'https://www.webmd.com/drugs/drugreview-63881-cryselle.aspx?drugid=63881&drugname=cryselle', 'https://www.webmd.com/drugs/drugreview-21097-yasmin-28.aspx?drugid=21097&drugname=yasmin-28', 'https://www.webmd.com/drugs/drugreview-12156-depo-provera-vial-progestins.aspx?drugid=12156&drugname=depo-provera-vial-progestins', 'https://www.webmd.com/drugs/drugreview-12156-depo-provera-vial-contraceptives.aspx?drugid=12156&drugname=depo-provera-vial-contraceptives', 'https://www.webmd.com/drugs/drugreview-160550-viorele.aspx?drugid=160550&drugname=viorele', 'https://www.webmd.com/drugs/drugreview-20940-aviane.aspx?drugid=20940&drugname=aviane', 'https://www.webmd.com/drugs/drugreview-75915-jolivette.aspx?drugid=75915&drugname=jolivette', 'https://www.webmd.com/drugs/drugreview-154309-natazia.aspx?drugid=154309&drugname=natazia', 'https://www.webmd.com/drugs/drugreview-93912-reclipsen.aspx?drugid=93912&drugname=reclipsen', 'https://www.webmd.com/drugs/drugreview-17518-apri.aspx?drugid=17518&drugname=apri', 'https://www.webmd.com/drugs/drugreview-145900-femcon-fe.aspx?drugid=145900&drugname=femcon-fe', 'https://www.webmd.com/drugs/drugreview-17131-ortho-tri-cyclen.aspx?drugid=17131&drugname=ortho-tri-cyclen', 'https://www.webmd.com/drugs/drugreview-64301-camila.aspx?drugid=64301&drugname=camila', 'https://www.webmd.com/drugs/drugreview-144989-jolessa.aspx?drugid=144989&drugname=jolessa', 'https://www.webmd.com/drugs/drugreview-166145-xulane-patch-weekly.aspx?drugid=166145&drugname=xulane-patch-weekly', 'https://www.webmd.com/drugs/drugreview-32934-kariva.aspx?drugid=32934&drugname=kariva', 'https://www.webmd.com/drugs/drugreview-156569-amethia.aspx?drugid=156569&drugname=amethia', 'https://www.webmd.com/drugs/drugreview-17133-ortho-cyclen.aspx?drugid=17133&drugname=ortho-cyclen', 'https://www.webmd.com/drugs/drugreview-144984-quasense.aspx?drugid=144984&drugname=quasense', 'https://www.webmd.com/drugs/drugreview-64333-nora-be.aspx?drugid=64333&drugname=nora-be', 'https://www.webmd.com/drugs/drugreview-77119-junel-fe.aspx?drugid=77119&drugname=junel-fe', 'https://www.webmd.com/drugs/drugreview-163305-skyla-device.aspx?drugid=163305&drugname=skyla-device', 'https://www.webmd.com/drugs/drugreview-32743-ortho-evra-patch-weekly.aspx?drugid=32743&drugname=ortho-evra-patch-weekly', 'https://www.webmd.com/drugs/drugreview-17509-low-ogestrel.aspx?drugid=17509&drugname=low-ogestrel', 'https://www.webmd.com/drugs/drugreview-154203-gianvi.aspx?drugid=154203&drugname=gianvi', 'https://www.webmd.com/drugs/drugreview-53391-microgestin-fe.aspx?drugid=53391&drugname=microgestin-fe', 'https://www.webmd.com/drugs/drugreview-148507-lybrel-28-tablet.aspx?drugid=148507&drugname=lybrel-28-tablet', 'https://www.webmd.com/drugs/drugreview-32809-ortho-micronor.aspx?drugid=32809&drugname=ortho-micronor', 'https://www.webmd.com/drugs/drugreview-63673-enpresse.aspx?drugid=63673&drugname=enpresse', 'https://www.webmd.com/drugs/drugreview-7421-trivora-28.aspx?drugid=7421&drugname=trivora-28', 'https://www.webmd.com/drugs/drugreview-163763-tri-estarylla.aspx?drugid=163763&drugname=tri-estarylla', 'https://www.webmd.com/drugs/drugreview-152006-loseasonique.aspx?drugid=152006&drugname=loseasonique', 'https://www.webmd.com/drugs/drugreview-145576-balziva.aspx?drugid=145576&drugname=balziva', 'https://www.webmd.com/drugs/drugreview-17127-lo-ovral-28-tablet.aspx?drugid=17127&drugname=lo-ovral-28-tablet', 'https://www.webmd.com/drugs/drugreview-165334-aubra.aspx?drugid=165334&drugname=aubra', 'https://www.webmd.com/drugs/drugreview-63796-alesse-28-tablet.aspx?drugid=63796&drugname=alesse-28-tablet', 'https://www.webmd.com/drugs/drugreview-21657-nortrel.aspx?drugid=21657&drugname=nortrel', 'https://www.webmd.com/drugs/drugreview-159253-vestura.aspx?drugid=159253&drugname=vestura', 'https://www.webmd.com/drugs/drugreview-53364-levora-28.aspx?drugid=53364&drugname=levora-28', 'https://www.webmd.com/drugs/drugreview-156577-camrese.aspx?drugid=156577&drugname=camrese', 'https://www.webmd.com/drugs/drugreview-63672-portia.aspx?drugid=63672&drugname=portia', 'https://www.webmd.com/drugs/drugreview-163265-chateal.aspx?drugid=163265&drugname=chateal', 'https://www.webmd.com/drugs/drugreview-17165-zovia-1-35e.aspx?drugid=17165&drugname=zovia-1-35e', 'https://www.webmd.com/drugs/drugreview-156076-orsythia.aspx?drugid=156076&drugname=orsythia', 'https://www.webmd.com/drugs/drugreview-152600-tri-lo-sprintec.aspx?drugid=152600&drugname=tri-lo-sprintec', 'https://www.webmd.com/drugs/drugreview-17170-levora-28.aspx?drugid=17170&drugname=levora-28', 'https://www.webmd.com/drugs/drugreview-21656-nortrel.aspx?drugid=21656&drugname=nortrel', 'https://www.webmd.com/drugs/drugreview-89105-previfem.aspx?drugid=89105&drugname=previfem', 'https://www.webmd.com/drugs/drugreview-75021-microgestin.aspx?drugid=75021&drugname=microgestin', 'https://www.webmd.com/drugs/drugreview-162818-mono-linyah.aspx?drugid=162818&drugname=mono-linyah', 'https://www.webmd.com/drugs/drugreview-76189-junel.aspx?drugid=76189&drugname=junel', 'https://www.webmd.com/drugs/drugreview-16321-norethindrone.aspx?drugid=16321&drugname=norethindrone', 'https://www.webmd.com/drugs/drugreview-166706-nikki.aspx?drugid=166706&drugname=nikki', 'https://www.webmd.com/drugs/drugreview-22347-vcf-film-medicated.aspx?drugid=22347&drugname=vcf-film-medicated', 'https://www.webmd.com/drugs/drugreview-155982-syeda.aspx?drugid=155982&drugname=syeda', 'https://www.webmd.com/drugs/drugreview-147147-zenchent.aspx?drugid=147147&drugname=zenchent', 'https://www.webmd.com/drugs/drugreview-6875-loestrin-fe.aspx?drugid=6875&drugname=loestrin-fe', 'https://www.webmd.com/drugs/drugreview-167096-tarina-fe.aspx?drugid=167096&drugname=tarina-fe', 'https://www.webmd.com/drugs/drugreview-32970-lessina.aspx?drugid=32970&drugname=lessina', 'https://www.webmd.com/drugs/drugreview-161423-falmina.aspx?drugid=161423&drugname=falmina', 'https://www.webmd.com/drugs/drugreview-389-encare-suppository.aspx?drugid=389&drugname=encare-suppository', 'https://www.webmd.com/drugs/drugreview-162573-tri-linyah.aspx?drugid=162573&drugname=tri-linyah', 'https://www.webmd.com/drugs/drugreview-165552-lomedia-24-fe.aspx?drugid=165552&drugname=lomedia-24-fe', 'https://www.webmd.com/drugs/drugreview-149460-tilia-fe.aspx?drugid=149460&drugname=tilia-fe', 'https://www.webmd.com/drugs/drugreview-6597-desogen.aspx?drugid=6597&drugname=desogen', 'https://www.webmd.com/drugs/drugreview-155131-introvale.aspx?drugid=155131&drugname=introvale', 'https://www.webmd.com/drugs/drugreview-170833-vienva.aspx?drugid=170833&drugname=vienva', 'https://www.webmd.com/drugs/drugreview-160270-alyacen.aspx?drugid=160270&drugname=alyacen', 'https://www.webmd.com/drugs/drugreview-8819-norgestimate-ethinyl-estradiol.aspx?drugid=8819&drugname=norgestimate-ethinyl-estradiol', 'https://www.webmd.com/drugs/drugreview-155603-emoquette.aspx?drugid=155603&drugname=emoquette', 'https://www.webmd.com/drugs/drugreview-164654-quartette.aspx?drugid=164654&drugname=quartette', 'https://www.webmd.com/drugs/drugreview-163999-daysee.aspx?drugid=163999&drugname=daysee', 'https://www.webmd.com/drugs/drugreview-155594-altavera.aspx?drugid=155594&drugname=altavera', 'https://www.webmd.com/drugs/drugreview-75161-necon.aspx?drugid=75161&drugname=necon', 'https://www.webmd.com/drugs/drugreview-93399-kelnor-1-35.aspx?drugid=93399&drugname=kelnor-1-35', 'https://www.webmd.com/drugs/drugreview-177561-annovera-ring.aspx?drugid=177561&drugname=annovera-ring', 'https://www.webmd.com/drugs/drugreview-76190-junel.aspx?drugid=76190&drugname=junel', 'https://www.webmd.com/drugs/drugreview-156057-amethyst.aspx?drugid=156057&drugname=amethyst', 'https://www.webmd.com/drugs/drugreview-3348-nor-q-d-tablet.aspx?drugid=3348&drugname=nor-q-d-tablet', 'https://www.webmd.com/drugs/drugreview-8202-mircette.aspx?drugid=8202&drugname=mircette', 'https://www.webmd.com/drugs/drugreview-151718-caziant.aspx?drugid=151718&drugname=caziant', 'https://www.webmd.com/drugs/drugreview-155171-safyral.aspx?drugid=155171&drugname=safyral', 'https://www.webmd.com/drugs/drugreview-149389-tri-legest-fe.aspx?drugid=149389&drugname=tri-legest-fe', 'https://www.webmd.com/drugs/drugreview-12176-vcf-film-medicated.aspx?drugid=12176&drugname=vcf-film-medicated', 'https://www.webmd.com/drugs/drugreview-164243-enskyce.aspx?drugid=164243&drugname=enskyce', 'https://www.webmd.com/drugs/drugreview-77917-micronor-28-tablet.aspx?drugid=77917&drugname=micronor-28-tablet', 'https://www.webmd.com/drugs/drugreview-75162-nortrel.aspx?drugid=75162&drugname=nortrel', 'https://www.webmd.com/drugs/drugreview-17155-levlen-28-tablet.aspx?drugid=17155&drugname=levlen-28-tablet', 'https://www.webmd.com/drugs/drugreview-4455-norplant-system-kit.aspx?drugid=4455&drugname=norplant-system-kit', 'https://www.webmd.com/drugs/drugreview-154480-heather.aspx?drugid=154480&drugname=heather', 'https://www.webmd.com/drugs/drugreview-154621-zarah.aspx?drugid=154621&drugname=zarah', 'https://www.webmd.com/drugs/drugreview-163762-estarylla.aspx?drugid=163762&drugname=estarylla', 'https://www.webmd.com/drugs/drugreview-16160-estrostep-fe.aspx?drugid=16160&drugname=estrostep-fe', 'https://www.webmd.com/drugs/drugreview-158769-amethia-lo.aspx?drugid=158769&drugname=amethia-lo', 'https://www.webmd.com/drugs/drugreview-17132-ortho-tri-cyclen-21-tablet.aspx?drugid=17132&drugname=ortho-tri-cyclen-21-tablet', 'https://www.webmd.com/drugs/drugreview-17162-ortho-novum.aspx?drugid=17162&drugname=ortho-novum', 'https://www.webmd.com/drugs/drugreview-170653-blisovi-fe.aspx?drugid=170653&drugname=blisovi-fe', 'https://www.webmd.com/drugs/drugreview-75022-microgestin.aspx?drugid=75022&drugname=microgestin', 'https://www.webmd.com/drugs/drugreview-167918-ashlyna.aspx?drugid=167918&drugname=ashlyna', 'https://www.webmd.com/drugs/drugreview-90514-solia-tablet.aspx?drugid=90514&drugname=solia-tablet', 'https://www.webmd.com/drugs/drugreview-1058-levonorgestrel-eth-estradiol.aspx?drugid=1058&drugname=levonorgestrel-eth-estradiol', 'https://www.webmd.com/drugs/drugreview-1058-levonorgestrel-eth-estradiol-tablet-dose-pack-3-months-contraceptives.aspx?drugid=1058&drugname=levonorgestrel-eth-estradiol-tablet-dose-pack-3-months-contraceptives', 'https://www.webmd.com/drugs/drugreview-1058-levonorgestrel-eth-estradiol-tablet-contraceptives.aspx?drugid=1058&drugname=levonorgestrel-eth-estradiol-tablet-contraceptives', 'https://www.webmd.com/drugs/drugreview-164750-lyza.aspx?drugid=164750&drugname=lyza', 'https://www.webmd.com/drugs/drugreview-17137-ortho-novum.aspx?drugid=17137&drugname=ortho-novum', 'https://www.webmd.com/drugs/drugreview-3468-loestrin.aspx?drugid=3468&drugname=loestrin', 'https://www.webmd.com/drugs/drugreview-158770-camrese-lo.aspx?drugid=158770&drugname=camrese-lo', 'https://www.webmd.com/drugs/drugreview-160969-myzilra.aspx?drugid=160969&drugname=myzilra', 'https://www.webmd.com/drugs/drugreview-162795-kurvelo.aspx?drugid=162795&drugname=kurvelo', 'https://www.webmd.com/drugs/drugreview-17158-norinyl-1-35.aspx?drugid=17158&drugname=norinyl-1-35', 'https://www.webmd.com/drugs/drugreview-17164-ovcon-35.aspx?drugid=17164&drugname=ovcon-35', 'https://www.webmd.com/drugs/drugreview-17193-necon.aspx?drugid=17193&drugname=necon', 'https://www.webmd.com/drugs/drugreview-155132-cyclafem.aspx?drugid=155132&drugname=cyclafem', 'https://www.webmd.com/drugs/drugreview-178485-eluryng-ring.aspx?drugid=178485&drugname=eluryng-ring', 'https://www.webmd.com/drugs/drugreview-78641-velivet.aspx?drugid=78641&drugname=velivet', 'https://www.webmd.com/drugs/drugreview-94150-ovcon-50-28-tablet.aspx?drugid=94150&drugname=ovcon-50-28-tablet', 'https://www.webmd.com/drugs/drugreview-92911-depo-subq-provera-104-syringe.aspx?drugid=92911&drugname=depo-subq-provera-104-syringe', 'https://www.webmd.com/drugs/drugreview-9090-conceptrol-inserts-insert.aspx?drugid=9090&drugname=conceptrol-inserts-insert', 'https://www.webmd.com/drugs/drugreview-160549-marlissa.aspx?drugid=160549&drugname=marlissa', 'https://www.webmd.com/drugs/drugreview-20882-cyclessa.aspx?drugid=20882&drugname=cyclessa', 'https://www.webmd.com/drugs/drugreview-166810-sharobel.aspx?drugid=166810&drugname=sharobel', 'https://www.webmd.com/drugs/drugreview-6640-loestrin-fe.aspx?drugid=6640&drugname=loestrin-fe', 'https://www.webmd.com/drugs/drugreview-17134-ortho-cyclen-21-tablet.aspx?drugid=17134&drugname=ortho-cyclen-21-tablet', 'https://www.webmd.com/drugs/drugreview-17187-ortho-cept-28-tablet.aspx?drugid=17187&drugname=ortho-cept-28-tablet', 'https://www.webmd.com/drugs/drugreview-168141-liletta-device.aspx?drugid=168141&drugname=liletta-device', 'https://www.webmd.com/drugs/drugreview-155537-zeosa-tablet-chewable.aspx?drugid=155537&drugname=zeosa-tablet-chewable', 'https://www.webmd.com/drugs/drugreview-165169-larin-fe.aspx?drugid=165169&drugname=larin-fe', 'https://www.webmd.com/drugs/drugreview-6490-vcf-aerosol-foam-with-applicator.aspx?drugid=6490&drugname=vcf-aerosol-foam-with-applicator', 'https://www.webmd.com/drugs/drugreview-17144-necon.aspx?drugid=17144&drugname=necon', 'https://www.webmd.com/drugs/drugreview-20417-levonorgestrel-device.aspx?drugid=20417&drugname=levonorgestrel-device', 'https://www.webmd.com/drugs/drugreview-20417-levonorgestrel-device.aspx?drugid=20417&drugname=levonorgestrel-device', 'https://www.webmd.com/drugs/drugreview-2758-norgestrel-ethiny-estra.aspx?drugid=2758&drugname=norgestrel-ethiny-estra', 'https://www.webmd.com/drugs/drugreview-165515-pimtrea.aspx?drugid=165515&drugname=pimtrea', 'https://www.webmd.com/drugs/drugreview-162942-gildess-1-5-30-21-tablet.aspx?drugid=162942&drugname=gildess-1-5-30-21-tablet', 'https://www.webmd.com/drugs/drugreview-53395-triphasil-28-tablet.aspx?drugid=53395&drugname=triphasil-28-tablet', 'https://www.webmd.com/drugs/drugreview-162071-dasetta.aspx?drugid=162071&drugname=dasetta', 'https://www.webmd.com/drugs/drugreview-157-levora-0-15-30-21-tablet.aspx?drugid=157&drugname=levora-0-15-30-21-tablet', 'https://www.webmd.com/drugs/drugreview-17192-necon-1-35-21-tablet.aspx?drugid=17192&drugname=necon-1-35-21-tablet', 'https://www.webmd.com/drugs/drugreview-63403-etonogestrel-ethinyl-estradiol-ring.aspx?drugid=63403&drugname=etonogestrel-ethinyl-estradiol-ring', 'https://www.webmd.com/drugs/drugreview-92543-leena.aspx?drugid=92543&drugname=leena', 'https://www.webmd.com/drugs/drugreview-17157-nordette-28-tablet.aspx?drugid=17157&drugname=nordette-28-tablet', 'https://www.webmd.com/drugs/drugreview-19994-desogestrel-ethinyl-estradiol.aspx?drugid=19994&drugname=desogestrel-ethinyl-estradiol', 'https://www.webmd.com/drugs/drugreview-172305-larissia.aspx?drugid=172305&drugname=larissia', 'https://www.webmd.com/drugs/drugreview-17139-tri-levlen-28-tablet.aspx?drugid=17139&drugname=tri-levlen-28-tablet', 'https://www.webmd.com/drugs/drugreview-3469-loestrin.aspx?drugid=3469&drugname=loestrin', 'https://www.webmd.com/drugs/drugreview-18102-ogestrel.aspx?drugid=18102&drugname=ogestrel', 'https://www.webmd.com/drugs/drugreview-21655-nortrel.aspx?drugid=21655&drugname=nortrel', 'https://www.webmd.com/drugs/drugreview-157403-zenchent-fe.aspx?drugid=157403&drugname=zenchent-fe', 'https://www.webmd.com/drugs/drugreview-145878-today-contraceptive-sponge.aspx?drugid=145878&drugname=today-contraceptive-sponge', 'https://www.webmd.com/drugs/drugreview-63866-medroxyprogesterone-acetate-vial.aspx?drugid=63866&drugname=medroxyprogesterone-acetate-vial', 'https://www.webmd.com/drugs/drugreview-63866-medroxyprogesterone-suspension.aspx?drugid=63866&drugname=medroxyprogesterone-suspension', 'https://www.webmd.com/drugs/drugreview-95282-low-ogestrel-21-tablet.aspx?drugid=95282&drugname=low-ogestrel-21-tablet', 'https://www.webmd.com/drugs/drugreview-165741-vyfemla.aspx?drugid=165741&drugname=vyfemla', 'https://www.webmd.com/drugs/drugreview-17150-demulen-1-35-28-tablet.aspx?drugid=17150&drugname=demulen-1-35-28-tablet', 'https://www.webmd.com/drugs/drugreview-17166-zovia-1-35e-21-tablet.aspx?drugid=17166&drugname=zovia-1-35e-21-tablet', 'https://www.webmd.com/drugs/drugreview-17140-tri-norinyl.aspx?drugid=17140&drugname=tri-norinyl', 'https://www.webmd.com/drugs/drugreview-17171-alesse-21-tablet.aspx?drugid=17171&drugname=alesse-21-tablet', 'https://www.webmd.com/drugs/drugreview-162070-dasetta.aspx?drugid=162070&drugname=dasetta', 'https://www.webmd.com/drugs/drugreview-170632-blisovi-24-fe.aspx?drugid=170632&drugname=blisovi-24-fe', 'https://www.webmd.com/drugs/drugreview-164319-jencycla.aspx?drugid=164319&drugname=jencycla', 'https://www.webmd.com/drugs/drugreview-17143-necon.aspx?drugid=17143&drugname=necon', 'https://www.webmd.com/drugs/drugreview-173857-isibloom.aspx?drugid=173857&drugname=isibloom', 'https://www.webmd.com/drugs/drugreview-17197-modicon-21-tablet.aspx?drugid=17197&drugname=modicon-21-tablet', 'https://www.webmd.com/drugs/drugreview-174001-lillow.aspx?drugid=174001&drugname=lillow', 'https://www.webmd.com/drugs/drugreview-6815-gynol-ii-jelly-with-applicator.aspx?drugid=6815&drugname=gynol-ii-jelly-with-applicator', 'https://www.webmd.com/drugs/drugreview-17508-ky-plus-spermicidal-jelly-gel.aspx?drugid=17508&drugname=ky-plus-spermicidal-jelly-gel', 'https://www.webmd.com/drugs/drugreview-17191-zovia-1-50e.aspx?drugid=17191&drugname=zovia-1-50e', 'https://www.webmd.com/drugs/drugreview-170838-blisovi-fe.aspx?drugid=170838&drugname=blisovi-fe', 'https://www.webmd.com/drugs/drugreview-169860-setlakin.aspx?drugid=169860&drugname=setlakin', 'https://www.webmd.com/drugs/drugreview-155136-cyclafem.aspx?drugid=155136&drugname=cyclafem', 'https://www.webmd.com/drugs/drugreview-91762-aranelle.aspx?drugid=91762&drugname=aranelle', 'https://www.webmd.com/drugs/drugreview-94151-ovcon-50-21-tablet.aspx?drugid=94151&drugname=ovcon-50-21-tablet', 'https://www.webmd.com/drugs/drugreview-170958-tri-lo-marzia.aspx?drugid=170958&drugname=tri-lo-marzia', 'https://www.webmd.com/drugs/drugreview-173602-tri-femynor.aspx?drugid=173602&drugname=tri-femynor', 'https://www.webmd.com/drugs/drugreview-17148-modicon-28-tablet.aspx?drugid=17148&drugname=modicon-28-tablet', 'https://www.webmd.com/drugs/drugreview-16239-norethindron-ethinyl-estradiol.aspx?drugid=16239&drugname=norethindron-ethinyl-estradiol', 'https://www.webmd.com/drugs/drugreview-16239-norethindron-ethinyl-estradiol-tablet-contraceptives.aspx?drugid=16239&drugname=norethindron-ethinyl-estradiol-tablet-contraceptives', 'https://www.webmd.com/drugs/drugreview-6112-norethin-eth-estra-ferrous-fum.aspx?drugid=6112&drugname=norethin-eth-estra-ferrous-fum', 'https://www.webmd.com/drugs/drugreview-6112-norethin-eth-estra-ferrous-fum-tablet-contraceptives.aspx?drugid=6112&drugname=norethin-eth-estra-ferrous-fum-tablet-contraceptives', 'https://www.webmd.com/drugs/drugreview-6112-norethindrone-e-estradiol-iron-tablet.aspx?drugid=6112&drugname=norethindrone-e-estradiol-iron-tablet', 'https://www.webmd.com/drugs/drugreview-17136-ortho-novum-7-7-7-21-tablet.aspx?drugid=17136&drugname=ortho-novum-7-7-7-21-tablet', 'https://www.webmd.com/drugs/drugreview-17169-necon-0-5-35-21-tablet.aspx?drugid=17169&drugname=necon-0-5-35-21-tablet', 'https://www.webmd.com/drugs/drugreview-2756-norethindrone-mestranol-tablet.aspx?drugid=2756&drugname=norethindrone-mestranol-tablet', 'https://www.webmd.com/drugs/drugreview-17182-brevicon.aspx?drugid=17182&drugname=brevicon', 'https://www.webmd.com/drugs/drugreview-17180-necon-10-11-21-tablet.aspx?drugid=17180&drugname=necon-10-11-21-tablet', 'https://www.webmd.com/drugs/drugreview-17190-ovcon-35-21-tablet.aspx?drugid=17190&drugname=ovcon-35-21-tablet', 'https://www.webmd.com/drugs/drugreview-163111-alyacen.aspx?drugid=163111&drugname=alyacen', 'https://www.webmd.com/drugs/drugreview-163180-wymzya-fe.aspx?drugid=163180&drugname=wymzya-fe', 'https://www.webmd.com/drugs/drugreview-168856-junel-fe-24.aspx?drugid=168856&drugname=junel-fe-24', 'https://www.webmd.com/drugs/drugreview-169625-cyred.aspx?drugid=169625&drugname=cyred', 'https://www.webmd.com/drugs/drugreview-165889-larin.aspx?drugid=165889&drugname=larin', 'https://www.webmd.com/drugs/drugreview-166906-deblitane.aspx?drugid=166906&drugname=deblitane', 'https://www.webmd.com/drugs/drugreview-17172-levlite-28-tablet.aspx?drugid=17172&drugname=levlite-28-tablet', 'https://www.webmd.com/drugs/drugreview-17201-norinyl-135-21-tablet.aspx?drugid=17201&drugname=norinyl-135-21-tablet', 'https://www.webmd.com/drugs/drugreview-17156-nordette-21-tablet.aspx?drugid=17156&drugname=nordette-21-tablet', 'https://www.webmd.com/drugs/drugreview-17138-ovral-28-tablet.aspx?drugid=17138&drugname=ovral-28-tablet', 'https://www.webmd.com/drugs/drugreview-174653-tri-vylibra.aspx?drugid=174653&drugname=tri-vylibra', 'https://www.webmd.com/drugs/drugreview-144792-etonogestrel-implant.aspx?drugid=144792&drugname=etonogestrel-implant', 'https://www.webmd.com/drugs/drugreview-162720-elinest.aspx?drugid=162720&drugname=elinest', 'https://www.webmd.com/drugs/drugreview-155693-briellyn.aspx?drugid=155693&drugname=briellyn', 'https://www.webmd.com/drugs/drugreview-161247-philith.aspx?drugid=161247&drugname=philith', 'https://www.webmd.com/drugs/drugreview-170647-larin-fe.aspx?drugid=170647&drugname=larin-fe', 'https://www.webmd.com/drugs/drugreview-390-nonoxynol-9-suppository.aspx?drugid=390&drugname=nonoxynol-9-suppository', 'https://www.webmd.com/drugs/drugreview-170608-bekyree.aspx?drugid=170608&drugname=bekyree', 'https://www.webmd.com/drugs/drugreview-164632-pirmella.aspx?drugid=164632&drugname=pirmella', 'https://www.webmd.com/drugs/drugreview-92910-medroxyprogesterone-syringe.aspx?drugid=92910&drugname=medroxyprogesterone-syringe', 'https://www.webmd.com/drugs/drugreview-7425-levonorgestrel-eth-estradiol.aspx?drugid=7425&drugname=levonorgestrel-eth-estradiol', 'https://www.webmd.com/drugs/drugreview-17176-ovral-21-tablet.aspx?drugid=17176&drugname=ovral-21-tablet', 'https://www.webmd.com/drugs/drugreview-2755-norethindrone-ethin-estradiol-tablet.aspx?drugid=2755&drugname=norethindrone-ethin-estradiol-tablet', 'https://www.webmd.com/drugs/drugreview-17154-levlen-21-tablet.aspx?drugid=17154&drugname=levlen-21-tablet', 'https://www.webmd.com/drugs/drugreview-53379-norethin-1-50-m-21-tablet.aspx?drugid=53379&drugname=norethin-1-50-m-21-tablet', 'https://www.webmd.com/drugs/drugreview-17153-demulen-1-50-21-tablet.aspx?drugid=17153&drugname=demulen-1-50-21-tablet', 'https://www.webmd.com/drugs/drugreview-17161-ortho-novum-1-35-21-tablet.aspx?drugid=17161&drugname=ortho-novum-1-35-21-tablet', 'https://www.webmd.com/drugs/drugreview-17128-lo-ovral-21-tablet.aspx?drugid=17128&drugname=lo-ovral-21-tablet', 'https://www.webmd.com/drugs/drugreview-21091-drospirenone-ethinyl-estradiol.aspx?drugid=21091&drugname=drospirenone-ethinyl-estradiol', 'https://www.webmd.com/drugs/drugreview-21091-drospirenone-ethinyl-estradiol-tablet-contraceptives.aspx?drugid=21091&drugname=drospirenone-ethinyl-estradiol-tablet-contraceptives', 'https://www.webmd.com/drugs/drugreview-165809-desogestr-eth-estrad-eth-estra.aspx?drugid=165809&drugname=desogestr-eth-estrad-eth-estra', 'https://www.webmd.com/drugs/drugreview-166548-larin.aspx?drugid=166548&drugname=larin', 'https://www.webmd.com/drugs/drugreview-177410-slynd.aspx?drugid=177410&drugname=slynd', 'https://www.webmd.com/drugs/drugreview-177342-drospirenone-contraceptive-tablet.aspx?drugid=177342&drugname=drospirenone-contraceptive-tablet', 'https://www.webmd.com/drugs/drugreview-17195-levlite-21-tablet.aspx?drugid=17195&drugname=levlite-21-tablet', 'https://www.webmd.com/drugs/drugreview-174652-vylibra.aspx?drugid=174652&drugname=vylibra', 'https://www.webmd.com/drugs/drugreview-13462-conceptrol-gel-with-prefilled-applicator.aspx?drugid=13462&drugname=conceptrol-gel-with-prefilled-applicator', 'https://www.webmd.com/drugs/drugreview-177356-lo-zumandimine.aspx?drugid=177356&drugname=lo-zumandimine', 'https://www.webmd.com/drugs/drugreview-19409-ramses-personl-spermicide-lub-gel.aspx?drugid=19409&drugname=ramses-personl-spermicide-lub-gel', 'https://www.webmd.com/drugs/drugreview-77915-ortho-novum-1-80-21-tablet.aspx?drugid=77915&drugname=ortho-novum-1-80-21-tablet', 'https://www.webmd.com/drugs/drugreview-144398-levonorg-eth-estrad-eth.aspx?drugid=144398&drugname=levonorg-eth-estrad-eth', 'https://www.webmd.com/drugs/drugreview-172561-taytulla.aspx?drugid=172561&drugname=taytulla', 'https://www.webmd.com/drugs/drugreview-162075-levonest.aspx?drugid=162075&drugname=levonest', 'https://www.webmd.com/drugs/drugreview-170018-juleber.aspx?drugid=170018&drugname=juleber', 'https://www.webmd.com/drugs/drugreview-171393-vcf-gel-with-prefilled-applicator.aspx?drugid=171393&drugname=vcf-gel-with-prefilled-applicator', 'https://www.webmd.com/drugs/drugreview-173400-mibelas-24-fe.aspx?drugid=173400&drugname=mibelas-24-fe', 'https://www.webmd.com/drugs/drugreview-162072-wera.aspx?drugid=162072&drugname=wera', 'https://www.webmd.com/drugs/drugreview-172687-femynor.aspx?drugid=172687&drugname=femynor', 'https://www.webmd.com/drugs/drugreview-170961-kaitlib-fe.aspx?drugid=170961&drugname=kaitlib-fe', 'https://www.webmd.com/drugs/drugreview-3894-levonorgestrel-kit.aspx?drugid=3894&drugname=levonorgestrel-kit', 'https://www.webmd.com/drugs/drugreview-53363-levora-21-tablet.aspx?drugid=53363&drugname=levora-21-tablet', 'https://www.webmd.com/drugs/drugreview-170645-gildess-fe-1-20-28-tablet.aspx?drugid=170645&drugname=gildess-fe-1-20-28-tablet', 'https://www.webmd.com/drugs/drugreview-168191-layolis-fe.aspx?drugid=168191&drugname=layolis-fe', 'https://www.webmd.com/drugs/drugreview-170787-trinessa-lo.aspx?drugid=170787&drugname=trinessa-lo', 'https://www.webmd.com/drugs/drugreview-170789-tri-lo-estarylla.aspx?drugid=170789&drugname=tri-lo-estarylla', 'https://www.webmd.com/drugs/drugreview-56960-delfen-contraceptive-foam.aspx?drugid=56960&drugname=delfen-contraceptive-foam', 'https://www.webmd.com/drugs/drugreview-163210-gildagia.aspx?drugid=163210&drugname=gildagia', 'https://www.webmd.com/drugs/drugreview-172682-rajani.aspx?drugid=172682&drugname=rajani', 'https://www.webmd.com/drugs/drugreview-9226-gynol-ii-extra-strength-gel.aspx?drugid=9226&drugname=gynol-ii-extra-strength-gel', 'https://www.webmd.com/drugs/drugreview-8820-norgestrel-tablet.aspx?drugid=8820&drugname=norgestrel-tablet', 'https://www.webmd.com/drugs/drugreview-6749-ethynodiol-ethinyl-estradiol.aspx?drugid=6749&drugname=ethynodiol-ethinyl-estradiol', 'https://www.webmd.com/drugs/drugreview-17178-tri-levlen-21-tablet.aspx?drugid=17178&drugname=tri-levlen-21-tablet', 'https://www.webmd.com/drugs/drugreview-176597-hailey-24-fe.aspx?drugid=176597&drugname=hailey-24-fe', 'https://www.webmd.com/drugs/drugreview-53380-norethin-1-50-m-28-tablet.aspx?drugid=53380&drugname=norethin-1-50-m-28-tablet', 'https://www.webmd.com/drugs/drugreview-53381-n-e-e-1-50-tablet.aspx?drugid=53381&drugname=n-e-e-1-50-tablet', 'https://www.webmd.com/drugs/drugreview-53382-n-e-e-tablet.aspx?drugid=53382&drugname=n-e-e-tablet', 'https://www.webmd.com/drugs/drugreview-20015-lunelle-suspension.aspx?drugid=20015&drugname=lunelle-suspension', 'https://www.webmd.com/drugs/drugreview-53383-genora-1-50-tablet.aspx?drugid=53383&drugname=genora-1-50-tablet', 'https://www.webmd.com/drugs/drugreview-56961-emko-foam.aspx?drugid=56961&drugname=emko-foam', 'https://www.webmd.com/drugs/drugreview-56964-semicid-suppository.aspx?drugid=56964&drugname=semicid-suppository', 'https://www.webmd.com/drugs/drugreview-17152-demulen-1-50-28-tablet.aspx?drugid=17152&drugname=demulen-1-50-28-tablet', 'https://www.webmd.com/drugs/drugreview-19394-koromex-cream.aspx?drugid=19394&drugname=koromex-cream', 'https://www.webmd.com/drugs/drugreview-53368-n-e-e-0-5-35-21-tablet.aspx?drugid=53368&drugname=n-e-e-0-5-35-21-tablet', 'https://www.webmd.com/drugs/drugreview-17151-demulen-1-35-21-tablet.aspx?drugid=17151&drugname=demulen-1-35-21-tablet', 'https://www.webmd.com/drugs/drugreview-20007-medroxyprogest-estradiol-cyp-suspension.aspx?drugid=20007&drugname=medroxyprogest-estradiol-cyp-suspension', 'https://www.webmd.com/drugs/drugreview-17159-norinyl-150-28-tablet.aspx?drugid=17159&drugname=norinyl-150-28-tablet', 'https://www.webmd.com/drugs/drugreview-17160-ortho-cept-21-tablet.aspx?drugid=17160&drugname=ortho-cept-21-tablet', 'https://www.webmd.com/drugs/drugreview-17163-ortho-novum-1-50-21-tablet.aspx?drugid=17163&drugname=ortho-novum-1-50-21-tablet', 'https://www.webmd.com/drugs/drugreview-17167-zovia-1-50e-21-tablet.aspx?drugid=17167&drugname=zovia-1-50e-21-tablet', 'https://www.webmd.com/drugs/drugreview-145073-ovcon-fe-tablet-chewable.aspx?drugid=145073&drugname=ovcon-fe-tablet-chewable', 'https://www.webmd.com/drugs/drugreview-168964-kimidess.aspx?drugid=168964&drugname=kimidess', 'https://www.webmd.com/drugs/drugreview-173477-fayosim.aspx?drugid=173477&drugname=fayosim', 'https://www.webmd.com/drugs/drugreview-173695-norlyda.aspx?drugid=173695&drugname=norlyda', 'https://www.webmd.com/drugs/drugreview-6950-ortho-gynol-gel.aspx?drugid=6950&drugname=ortho-gynol-gel', 'https://www.webmd.com/drugs/drugreview-175316-tulana.aspx?drugid=175316&drugname=tulana', 'https://www.webmd.com/drugs/drugreview-174625-levonorgest-eth-estradiol-iron-tablet.aspx?drugid=174625&drugname=levonorgest-eth-estradiol-iron-tablet', 'https://www.webmd.com/drugs/drugreview-17145-brevicon-21-tablet.aspx?drugid=17145&drugname=brevicon-21-tablet', 'https://www.webmd.com/drugs/drugreview-17147-genora-1-50-28-tablet.aspx?drugid=17147&drugname=genora-1-50-28-tablet', 'https://www.webmd.com/drugs/drugreview-17149-nelova-1-35-28-tablet.aspx?drugid=17149&drugname=nelova-1-35-28-tablet', 'https://www.webmd.com/drugs/drugreview-175254-mili.aspx?drugid=175254&drugname=mili', 'https://www.webmd.com/drugs/drugreview-177479-kalliga.aspx?drugid=177479&drugname=kalliga', 'https://www.webmd.com/drugs/drugreview-166592-norlyroc.aspx?drugid=166592&drugname=norlyroc', 'https://www.webmd.com/drugs/drugreview-177070-aurovela-24-fe.aspx?drugid=177070&drugname=aurovela-24-fe', 'https://www.webmd.com/drugs/drugreview-3718-delfen-foam.aspx?drugid=3718&drugname=delfen-foam', 'https://www.webmd.com/drugs/drugreview-175789-aubra-eq.aspx?drugid=175789&drugname=aubra-eq', 'https://www.webmd.com/drugs/drugreview-177123-aurovela-fe.aspx?drugid=177123&drugname=aurovela-fe', 'https://www.webmd.com/drugs/drugreview-177127-aurovela.aspx?drugid=177127&drugname=aurovela', 'https://www.webmd.com/drugs/drugreview-175790-chateal-eq.aspx?drugid=175790&drugname=chateal-eq', 'https://www.webmd.com/drugs/drugreview-174905-tydemy.aspx?drugid=174905&drugname=tydemy', 'https://www.webmd.com/drugs/drugreview-177349-tri-lo-mili.aspx?drugid=177349&drugname=tri-lo-mili', 'https://www.webmd.com/drugs/drugreview-177340-aurovela-fe.aspx?drugid=177340&drugname=aurovela-fe', 'https://www.webmd.com/drugs/drugreview-174867-kelnor-1-50.aspx?drugid=174867&drugname=kelnor-1-50', 'https://www.webmd.com/drugs/drugreview-17198-nelova-28-tablet.aspx?drugid=17198&drugname=nelova-28-tablet', 'https://www.webmd.com/drugs/drugreview-173481-rivelsa.aspx?drugid=173481&drugname=rivelsa', 'https://www.webmd.com/drugs/drugreview-175113-balcoltra.aspx?drugid=175113&drugname=balcoltra', 'https://www.webmd.com/drugs/drugreview-175288-tri-mili.aspx?drugid=175288&drugname=tri-mili', 'https://www.webmd.com/drugs/drugreview-177404-ayuna.aspx?drugid=177404&drugname=ayuna', 'https://www.webmd.com/drugs/drugreview-177402-afirmelle.aspx?drugid=177402&drugname=afirmelle', 'https://www.webmd.com/drugs/drugreview-177386-simpesse.aspx?drugid=177386&drugname=simpesse', 'https://www.webmd.com/drugs/drugreview-177368-zumandimine.aspx?drugid=177368&drugname=zumandimine', 'https://www.webmd.com/drugs/drugreview-17188-ortho-novum-1-50-28-tablet.aspx?drugid=17188&drugname=ortho-novum-1-50-28-tablet', 'https://www.webmd.com/drugs/drugreview-17184-genora-1-50-21-tablet.aspx?drugid=17184&drugname=genora-1-50-21-tablet', 'https://www.webmd.com/drugs/drugreview-19396-koromex-contraceptive-gel.aspx?drugid=19396&drugname=koromex-contraceptive-gel', 'https://www.webmd.com/drugs/drugreview-32742-norelgestromin-ethin-estradiol-patch-weekly.aspx?drugid=32742&drugname=norelgestromin-ethin-estradiol-patch-weekly', 'https://www.webmd.com/drugs/drugreview-77916-ortho-novum-1-80-28-tablet.aspx?drugid=77916&drugname=ortho-novum-1-80-28-tablet', 'https://www.webmd.com/drugs/drugreview-19423-norethin-1-35e-21-tablet.aspx?drugid=19423&drugname=norethin-1-35e-21-tablet', 'https://www.webmd.com/drugs/drugreview-19422-norethin-1-35e-28-tablet.aspx?drugid=19422&drugname=norethin-1-35e-28-tablet', 'https://www.webmd.com/drugs/drugreview-19425-norethin-1-50-28-tablet.aspx?drugid=19425&drugname=norethin-1-50-28-tablet', 'https://www.webmd.com/drugs/drugreview-19424-norethin-1-50-21-tablet.aspx?drugid=19424&drugname=norethin-1-50-21-tablet', 'https://www.webmd.com/drugs/drugreview-17189-ortho-novum-10-11-21-tablet.aspx?drugid=17189&drugname=ortho-novum-10-11-21-tablet', 'https://www.webmd.com/drugs/drugreview-86606-because-foam.aspx?drugid=86606&drugname=because-foam', 'https://www.webmd.com/drugs/drugreview-91609-cesia-28-tablet.aspx?drugid=91609&drugname=cesia-28-tablet', 'https://www.webmd.com/drugs/drugreview-91469-levlen-8-tablet.aspx?drugid=91469&drugname=levlen-8-tablet', 'https://www.webmd.com/drugs/drugreview-168305-larin-24-fe.aspx?drugid=168305&drugname=larin-24-fe', 'https://www.webmd.com/drugs/drugreview-9499-shur-seal-contraceptive-packet.aspx?drugid=9499&drugname=shur-seal-contraceptive-packet', 'https://www.webmd.com/drugs/drugreview-6951-octoxynol-gel.aspx?drugid=6951&drugname=octoxynol-gel', 'https://www.webmd.com/drugs/drugreview-56963-intercept-contraceptive-suppository.aspx?drugid=56963&drugname=intercept-contraceptive-suppository', 'https://www.webmd.com/drugs/drugreview-6161-semicid-contraceptive-suppository.aspx?drugid=6161&drugname=semicid-contraceptive-suppository', 'https://www.webmd.com/drugs/drugreview-170491-microgestin-24-fe.aspx?drugid=170491&drugname=microgestin-24-fe', 'https://www.webmd.com/drugs/drugreview-154716-drospirenone-eth-estra-levomef.aspx?drugid=154716&drugname=drospirenone-eth-estra-levomef', 'https://www.webmd.com/drugs/drugreview-154716-drospirenone-eth-estra-levomef-tablet-contraceptives.aspx?drugid=154716&drugname=drospirenone-eth-estra-levomef-tablet-contraceptives', 'https://www.webmd.com/drugs/drugreview-154305-estradiol-valerate-dienogest-tablet.aspx?drugid=154305&drugname=estradiol-valerate-dienogest-tablet', 'https://www.webmd.com/drugs/drugreview-53366-nelova-tablet.aspx?drugid=53366&drugname=nelova-tablet', 'https://www.webmd.com/drugs/drugreview-53394-triphasil-21-tablet.aspx?drugid=53394&drugname=triphasil-21-tablet', 'https://www.webmd.com/drugs/drugreview-95286-genora-28-tablet.aspx?drugid=95286&drugname=genora-28-tablet', 'https://www.webmd.com/drugs/drugreview-95287-gynex-21-tablet.aspx?drugid=95287&drugname=gynex-21-tablet', 'https://www.webmd.com/drugs/drugreview-95288-gynex-28-tablet.aspx?drugid=95288&drugname=gynex-28-tablet', 'https://www.webmd.com/drugs/drugreview-95296-nelova-10-11-21-tablet.aspx?drugid=95296&drugname=nelova-10-11-21-tablet', 'https://www.webmd.com/drugs/drugreview-93969-ovral-4-tablet.aspx?drugid=93969&drugname=ovral-4-tablet', 'https://www.webmd.com/drugs/drugreview-95283-lo-ovral-8-tablet.aspx?drugid=95283&drugname=lo-ovral-8-tablet', 'https://www.webmd.com/drugs/drugreview-95285-genora-21-tablet.aspx?drugid=95285&drugname=genora-21-tablet', 'https://www.webmd.com/drugs/drugreview-95299-norcept-e-1-35-28-tablet.aspx?drugid=95299&drugname=norcept-e-1-35-28-tablet', 'https://www.webmd.com/drugs/drugreview-95292-n-e-e-1-35-21-tablet.aspx?drugid=95292&drugname=n-e-e-1-35-21-tablet', 'https://www.webmd.com/drugs/drugreview-95293-n-e-e-1-35-28-tablet.aspx?drugid=95293&drugname=n-e-e-1-35-28-tablet', 'https://www.webmd.com/drugs/drugreview-95294-n-e-e-10-11-21-tablet.aspx?drugid=95294&drugname=n-e-e-10-11-21-tablet', 'https://www.webmd.com/drugs/drugreview-95289-nelova-21-tablet.aspx?drugid=95289&drugname=nelova-21-tablet', 'https://www.webmd.com/drugs/drugreview-95290-gynex-1-35e-28-tablet.aspx?drugid=95290&drugname=gynex-1-35e-28-tablet', 'https://www.webmd.com/drugs/drugreview-95291-gynex-1-35e-21-tablet.aspx?drugid=95291&drugname=gynex-1-35e-21-tablet', 'https://www.webmd.com/drugs/drugreview-91303-advantage-s-contraceptive-gel.aspx?drugid=91303&drugname=advantage-s-contraceptive-gel', 'https://www.webmd.com/drugs/drugreview-170646-gildess-1-20-21-tablet.aspx?drugid=170646&drugname=gildess-1-20-21-tablet', 'https://www.webmd.com/drugs/drugreview-95295-n-e-e-10-11-28-tablet.aspx?drugid=95295&drugname=n-e-e-10-11-28-tablet', 'https://www.webmd.com/drugs/drugreview-95297-nelova-10-11-28-tablet.aspx?drugid=95297&drugname=nelova-10-11-28-tablet', 'https://www.webmd.com/drugs/drugreview-95298-norcept-e-1-35-21-tablet.aspx?drugid=95298&drugname=norcept-e-1-35-21-tablet', 'https://www.webmd.com/drugs/drugreview-56962-lube-jelly-plus-gel.aspx?drugid=56962&drugname=lube-jelly-plus-gel', 'https://www.webmd.com/drugs/drugreview-56966-ortho-gynol-contraceptive-gel.aspx?drugid=56966&drugname=ortho-gynol-contraceptive-gel', 'https://www.webmd.com/drugs/drugreview-174137-melodetta-24-fe.aspx?drugid=174137&drugname=melodetta-24-fe', 'https://www.webmd.com/drugs/drugreview-175660-incassia.aspx?drugid=175660&drugname=incassia', 'https://www.webmd.com/drugs/drugreview-164974-lo-minastrin-fe-combination-package-tablet-chew-and-comb-tablet.aspx?drugid=164974&drugname=lo-minastrin-fe-combination-package-tablet-chew-and-comb-tablet', 'https://www.webmd.com/drugs/drugreview-9389-ovrette-tablet.aspx?drugid=9389&drugname=ovrette-tablet', 'https://www.webmd.com/drugs/drugreview-166637-delyla.aspx?drugid=166637&drugname=delyla', 'https://www.webmd.com/drugs/drugreview-176752-nor-q-d-21-tablet.aspx?drugid=176752&drugname=nor-q-d-21-tablet', 'https://www.webmd.com/drugs/drugreview-176219-tarina-fe-1-20-eq.aspx?drugid=176219&drugname=tarina-fe-1-20-eq', 'https://www.webmd.com/drugs/drugreview-176220-cyred-eq.aspx?drugid=176220&drugname=cyred-eq', 'https://www.webmd.com/drugs/drugreview-176755-nordette-8-tablet.aspx?drugid=176755&drugname=nordette-8-tablet', 'https://www.webmd.com/drugs/drugreview-167639-gildess-24-fe-tablet.aspx?drugid=167639&drugname=gildess-24-fe-tablet', 'https://www.webmd.com/drugs/drugreview-176716-tri-vylibra-lo.aspx?drugid=176716&drugname=tri-vylibra-lo', 'https://www.webmd.com/drugs/drugreview-178956-jaimiess.aspx?drugid=178956&drugname=jaimiess', 'https://www.webmd.com/drugs/drugreview-178957-lojaimiess.aspx?drugid=178957&drugname=lojaimiess', 'https://www.webmd.com/drugs/drugreview-178958-volnea.aspx?drugid=178958&drugname=volnea', 'https://www.webmd.com/drugs/drugreview-177739-hailey.aspx?drugid=177739&drugname=hailey', 'https://www.webmd.com/drugs/drugreview-176967-tarina-24-fe.aspx?drugid=176967&drugname=tarina-24-fe', 'https://www.webmd.com/drugs/drugreview-150125-seasonale-91-tablet-dose-pack-3-months.aspx?drugid=150125&drugname=seasonale-91-tablet-dose-pack-3-months', 'https://www.webmd.com/drugs/drugreview-176866-jasmiel.aspx?drugid=176866&drugname=jasmiel', 'https://www.webmd.com/drugs/drugreview-177247-aurovela.aspx?drugid=177247&drugname=aurovela', 'https://www.webmd.com/drugs/drugreview-177206-simliya.aspx?drugid=177206&drugname=simliya', 'https://www.webmd.com/drugs/drugreview-17129-nelova-1-50m-21-tablet.aspx?drugid=17129&drugname=nelova-1-50m-21-tablet', 'https://www.webmd.com/drugs/drugreview-17130-nelova-1-50m-28-tablet.aspx?drugid=17130&drugname=nelova-1-50m-28-tablet', 'https://www.webmd.com/drugs/drugreview-17146-genora-1-35-21-tablet.aspx?drugid=17146&drugname=genora-1-35-21-tablet', 'https://www.webmd.com/drugs/drugreview-17179-tri-norinyl-21-tablet.aspx?drugid=17179&drugname=tri-norinyl-21-tablet', 'https://www.webmd.com/drugs/drugreview-17135-ortho-novum-10-11-28-tablet.aspx?drugid=17135&drugname=ortho-novum-10-11-28-tablet', 'https://www.webmd.com/drugs/drugreview-14856-jenest-28-tablet.aspx?drugid=14856&drugname=jenest-28-tablet', 'https://www.webmd.com/drugs/drugreview-17181-necon-1-50-21-tablet.aspx?drugid=17181&drugname=necon-1-50-21-tablet', 'https://www.webmd.com/drugs/drugreview-17183-genora-1-35-28-tablet.aspx?drugid=17183&drugname=genora-1-35-28-tablet', 'https://www.webmd.com/drugs/drugreview-17185-nelova-1-35-21-tablet.aspx?drugid=17185&drugname=nelova-1-35-21-tablet', 'https://www.webmd.com/drugs/drugreview-17186-norinyl-150-21-tablet.aspx?drugid=17186&drugname=norinyl-150-21-tablet', 'https://www.webmd.com/drugs/drugreview-11703-advantage-24-bioad-contracept-gel.aspx?drugid=11703&drugname=advantage-24-bioad-contracept-gel', 'https://www.webmd.com/drugs/drugreview-175866-segesterone-ac-ethin-estradiol-ring.aspx?drugid=175866&drugname=segesterone-ac-ethin-estradiol-ring', 'https://www.webmd.com/drugs/drugreview-172655-kyleena-device.aspx?drugid=172655&drugname=kyleena-device', 'https://www.webmd.com/drugs/drugreview-144971-norethin-eth-estra-ferrous-fum.aspx?drugid=144971&drugname=norethin-eth-estra-ferrous-fum', 'https://www.webmd.com/drugs/drugreview-144971-norethin-eth-estra-ferrous-fum-tablet-chewable-contraceptives.aspx?drugid=144971&drugname=norethin-eth-estra-ferrous-fum-tablet-chewable-contraceptives', 'https://www.webmd.com/drugs/drugreview-164689-copper-device.aspx?drugid=164689&drugname=copper-device', 'https://www.webmd.com/drugs/drugreview-11513-norethin-e-estradiol-triphasic-tablet.aspx?drugid=11513&drugname=norethin-e-estradiol-triphasic-tablet', 'https://www.webmd.com/drugs/drugreview-14134-norethin-eth-estrad-biphasic-tablet.aspx?drugid=14134&drugname=norethin-eth-estrad-biphasic-tablet']\n"
          ],
          "name": "stdout"
        }
      ]
    },
    {
      "cell_type": "code",
      "metadata": {
        "id": "VQosCtIy0akb",
        "colab_type": "code",
        "outputId": "cce484aa-3cc1-4f86-9b35-64faaf998c75",
        "colab": {
          "base_uri": "https://localhost:8080/",
          "height": 359
        }
      },
      "source": [
        "contraceptives.head(10)"
      ],
      "execution_count": 36,
      "outputs": [
        {
          "output_type": "execute_result",
          "data": {
            "text/html": [
              "<div>\n",
              "<style scoped>\n",
              "    .dataframe tbody tr th:only-of-type {\n",
              "        vertical-align: middle;\n",
              "    }\n",
              "\n",
              "    .dataframe tbody tr th {\n",
              "        vertical-align: top;\n",
              "    }\n",
              "\n",
              "    .dataframe thead th {\n",
              "        text-align: right;\n",
              "    }\n",
              "</style>\n",
              "<table border=\"1\" class=\"dataframe\">\n",
              "  <thead>\n",
              "    <tr style=\"text-align: right;\">\n",
              "      <th></th>\n",
              "      <th>Drug Name</th>\n",
              "      <th>Indication</th>\n",
              "      <th>Type</th>\n",
              "      <th>User Reviews</th>\n",
              "      <th>Review_Link</th>\n",
              "    </tr>\n",
              "  </thead>\n",
              "  <tbody>\n",
              "    <tr>\n",
              "      <th>0</th>\n",
              "      <td>Mirena Intrauterine Device</td>\n",
              "      <td>On Label</td>\n",
              "      <td>RX</td>\n",
              "      <td>1763 Reviews</td>\n",
              "      <td>https://www.webmd.com/drugs/drugreview-20420-m...</td>\n",
              "    </tr>\n",
              "    <tr>\n",
              "      <th>1</th>\n",
              "      <td>Sprintec</td>\n",
              "      <td>On Label</td>\n",
              "      <td>RX</td>\n",
              "      <td>960 Reviews</td>\n",
              "      <td>https://www.webmd.com/drugs/drugreview-64195-s...</td>\n",
              "    </tr>\n",
              "    <tr>\n",
              "      <th>2</th>\n",
              "      <td>YAZ</td>\n",
              "      <td>On Label</td>\n",
              "      <td>RX</td>\n",
              "      <td>683 Reviews</td>\n",
              "      <td>https://www.webmd.com/drugs/drugreview-95358-y...</td>\n",
              "    </tr>\n",
              "    <tr>\n",
              "      <th>3</th>\n",
              "      <td>Tri-Sprintec</td>\n",
              "      <td>On Label</td>\n",
              "      <td>RX</td>\n",
              "      <td>640 Reviews</td>\n",
              "      <td>https://www.webmd.com/drugs/drugreview-78136-t...</td>\n",
              "    </tr>\n",
              "    <tr>\n",
              "      <th>4</th>\n",
              "      <td>Loestrin 24 Fe tablet</td>\n",
              "      <td>On Label</td>\n",
              "      <td>RX</td>\n",
              "      <td>620 Reviews</td>\n",
              "      <td>https://www.webmd.com/drugs/drugreview-95194-l...</td>\n",
              "    </tr>\n",
              "    <tr>\n",
              "      <th>5</th>\n",
              "      <td>NuvaRing Ring, Vaginal</td>\n",
              "      <td>On Label</td>\n",
              "      <td>RX</td>\n",
              "      <td>591 Reviews</td>\n",
              "      <td>https://www.webmd.com/drugs/drugreview-63410-n...</td>\n",
              "    </tr>\n",
              "    <tr>\n",
              "      <th>6</th>\n",
              "      <td>ParaGard T 380-A Intrauterine Device</td>\n",
              "      <td>On Label</td>\n",
              "      <td>RX</td>\n",
              "      <td>516 Reviews</td>\n",
              "      <td>https://www.webmd.com/drugs/drugreview-13028-p...</td>\n",
              "    </tr>\n",
              "    <tr>\n",
              "      <th>7</th>\n",
              "      <td>Implanon Implant</td>\n",
              "      <td>On Label</td>\n",
              "      <td>RX</td>\n",
              "      <td>475 Reviews</td>\n",
              "      <td>https://www.webmd.com/drugs/drugreview-144857-...</td>\n",
              "    </tr>\n",
              "    <tr>\n",
              "      <th>8</th>\n",
              "      <td>Depo-Provera Contraceptive Suspension</td>\n",
              "      <td>On Label</td>\n",
              "      <td>RX</td>\n",
              "      <td>452 Reviews</td>\n",
              "      <td>https://www.webmd.com/drugs/drugreview-53357-d...</td>\n",
              "    </tr>\n",
              "    <tr>\n",
              "      <th>9</th>\n",
              "      <td>Nexplanon Implant</td>\n",
              "      <td>On Label</td>\n",
              "      <td>RX</td>\n",
              "      <td>415 Reviews</td>\n",
              "      <td>https://www.webmd.com/drugs/drugreview-156597-...</td>\n",
              "    </tr>\n",
              "  </tbody>\n",
              "</table>\n",
              "</div>"
            ],
            "text/plain": [
              "                               Drug Name  ...                                        Review_Link\n",
              "0             Mirena Intrauterine Device  ...  https://www.webmd.com/drugs/drugreview-20420-m...\n",
              "1                               Sprintec  ...  https://www.webmd.com/drugs/drugreview-64195-s...\n",
              "2                                    YAZ  ...  https://www.webmd.com/drugs/drugreview-95358-y...\n",
              "3                           Tri-Sprintec  ...  https://www.webmd.com/drugs/drugreview-78136-t...\n",
              "4                  Loestrin 24 Fe tablet  ...  https://www.webmd.com/drugs/drugreview-95194-l...\n",
              "5                 NuvaRing Ring, Vaginal  ...  https://www.webmd.com/drugs/drugreview-63410-n...\n",
              "6   ParaGard T 380-A Intrauterine Device  ...  https://www.webmd.com/drugs/drugreview-13028-p...\n",
              "7                       Implanon Implant  ...  https://www.webmd.com/drugs/drugreview-144857-...\n",
              "8  Depo-Provera Contraceptive Suspension  ...  https://www.webmd.com/drugs/drugreview-53357-d...\n",
              "9                      Nexplanon Implant  ...  https://www.webmd.com/drugs/drugreview-156597-...\n",
              "\n",
              "[10 rows x 5 columns]"
            ]
          },
          "metadata": {
            "tags": []
          },
          "execution_count": 36
        }
      ]
    },
    {
      "cell_type": "code",
      "metadata": {
        "id": "pmaYYnKCrtPd",
        "colab_type": "code",
        "colab": {}
      },
      "source": [
        "reviews = contraceptives[\"User Reviews\"].str.split(\" \", n = 1, expand = True)\n",
        "contraceptives[\"Num_Reviews\"] = reviews[0]\n",
        "contraceptives = contraceptives[contraceptives[\"Num_Reviews\"] > \"0\"]"
      ],
      "execution_count": 0,
      "outputs": []
    },
    {
      "cell_type": "code",
      "metadata": {
        "id": "w27YjJoWti-N",
        "colab_type": "code",
        "outputId": "8a098514-08a3-4606-c77a-f1f499c6bedd",
        "colab": {
          "base_uri": "https://localhost:8080/",
          "height": 419
        }
      },
      "source": [
        "contraceptives"
      ],
      "execution_count": 40,
      "outputs": [
        {
          "output_type": "execute_result",
          "data": {
            "text/html": [
              "<div>\n",
              "<style scoped>\n",
              "    .dataframe tbody tr th:only-of-type {\n",
              "        vertical-align: middle;\n",
              "    }\n",
              "\n",
              "    .dataframe tbody tr th {\n",
              "        vertical-align: top;\n",
              "    }\n",
              "\n",
              "    .dataframe thead th {\n",
              "        text-align: right;\n",
              "    }\n",
              "</style>\n",
              "<table border=\"1\" class=\"dataframe\">\n",
              "  <thead>\n",
              "    <tr style=\"text-align: right;\">\n",
              "      <th></th>\n",
              "      <th>Drug Name</th>\n",
              "      <th>Indication</th>\n",
              "      <th>Type</th>\n",
              "      <th>User Reviews</th>\n",
              "      <th>Review_Link</th>\n",
              "      <th>Num_Reviews</th>\n",
              "    </tr>\n",
              "  </thead>\n",
              "  <tbody>\n",
              "    <tr>\n",
              "      <th>0</th>\n",
              "      <td>Mirena Intrauterine Device</td>\n",
              "      <td>On Label</td>\n",
              "      <td>RX</td>\n",
              "      <td>1763 Reviews</td>\n",
              "      <td>https://www.webmd.com/drugs/drugreview-20420-m...</td>\n",
              "      <td>1763</td>\n",
              "    </tr>\n",
              "    <tr>\n",
              "      <th>1</th>\n",
              "      <td>Sprintec</td>\n",
              "      <td>On Label</td>\n",
              "      <td>RX</td>\n",
              "      <td>960 Reviews</td>\n",
              "      <td>https://www.webmd.com/drugs/drugreview-64195-s...</td>\n",
              "      <td>960</td>\n",
              "    </tr>\n",
              "    <tr>\n",
              "      <th>2</th>\n",
              "      <td>YAZ</td>\n",
              "      <td>On Label</td>\n",
              "      <td>RX</td>\n",
              "      <td>683 Reviews</td>\n",
              "      <td>https://www.webmd.com/drugs/drugreview-95358-y...</td>\n",
              "      <td>683</td>\n",
              "    </tr>\n",
              "    <tr>\n",
              "      <th>3</th>\n",
              "      <td>Tri-Sprintec</td>\n",
              "      <td>On Label</td>\n",
              "      <td>RX</td>\n",
              "      <td>640 Reviews</td>\n",
              "      <td>https://www.webmd.com/drugs/drugreview-78136-t...</td>\n",
              "      <td>640</td>\n",
              "    </tr>\n",
              "    <tr>\n",
              "      <th>4</th>\n",
              "      <td>Loestrin 24 Fe tablet</td>\n",
              "      <td>On Label</td>\n",
              "      <td>RX</td>\n",
              "      <td>620 Reviews</td>\n",
              "      <td>https://www.webmd.com/drugs/drugreview-95194-l...</td>\n",
              "      <td>620</td>\n",
              "    </tr>\n",
              "    <tr>\n",
              "      <th>...</th>\n",
              "      <td>...</td>\n",
              "      <td>...</td>\n",
              "      <td>...</td>\n",
              "      <td>...</td>\n",
              "      <td>...</td>\n",
              "      <td>...</td>\n",
              "    </tr>\n",
              "    <tr>\n",
              "      <th>273</th>\n",
              "      <td>Gynol II Extra Strength Gel</td>\n",
              "      <td>On Label</td>\n",
              "      <td>OTC</td>\n",
              "      <td>1 Reviews</td>\n",
              "      <td>https://www.webmd.com/drugs/drugreview-9226-gy...</td>\n",
              "      <td>1</td>\n",
              "    </tr>\n",
              "    <tr>\n",
              "      <th>274</th>\n",
              "      <td>norgestrel tablet</td>\n",
              "      <td>On Label</td>\n",
              "      <td>RX</td>\n",
              "      <td>1 Reviews</td>\n",
              "      <td>https://www.webmd.com/drugs/drugreview-8820-no...</td>\n",
              "      <td>1</td>\n",
              "    </tr>\n",
              "    <tr>\n",
              "      <th>275</th>\n",
              "      <td>ETHYNODIOL-ETHINYL estradiol</td>\n",
              "      <td>On Label</td>\n",
              "      <td>RX</td>\n",
              "      <td>1 Reviews</td>\n",
              "      <td>https://www.webmd.com/drugs/drugreview-6749-et...</td>\n",
              "      <td>1</td>\n",
              "    </tr>\n",
              "    <tr>\n",
              "      <th>276</th>\n",
              "      <td>Tri-Levlen (21) tablet</td>\n",
              "      <td>On Label</td>\n",
              "      <td>RX</td>\n",
              "      <td>1 Reviews</td>\n",
              "      <td>https://www.webmd.com/drugs/drugreview-17178-t...</td>\n",
              "      <td>1</td>\n",
              "    </tr>\n",
              "    <tr>\n",
              "      <th>277</th>\n",
              "      <td>Hailey 24 Fe</td>\n",
              "      <td>On Label</td>\n",
              "      <td>RX</td>\n",
              "      <td>1 Reviews</td>\n",
              "      <td>https://www.webmd.com/drugs/drugreview-176597-...</td>\n",
              "      <td>1</td>\n",
              "    </tr>\n",
              "  </tbody>\n",
              "</table>\n",
              "<p>278 rows × 6 columns</p>\n",
              "</div>"
            ],
            "text/plain": [
              "                        Drug Name  ... Num_Reviews\n",
              "0      Mirena Intrauterine Device  ...        1763\n",
              "1                        Sprintec  ...         960\n",
              "2                             YAZ  ...         683\n",
              "3                    Tri-Sprintec  ...         640\n",
              "4           Loestrin 24 Fe tablet  ...         620\n",
              "..                            ...  ...         ...\n",
              "273   Gynol II Extra Strength Gel  ...           1\n",
              "274             norgestrel tablet  ...           1\n",
              "275  ETHYNODIOL-ETHINYL estradiol  ...           1\n",
              "276        Tri-Levlen (21) tablet  ...           1\n",
              "277                  Hailey 24 Fe  ...           1\n",
              "\n",
              "[278 rows x 6 columns]"
            ]
          },
          "metadata": {
            "tags": []
          },
          "execution_count": 40
        }
      ]
    },
    {
      "cell_type": "markdown",
      "metadata": {
        "id": "od-Fhgqk0DKh",
        "colab_type": "text"
      },
      "source": [
        "# Part 2: Follow links to contraceptive reviews to extract reviews for each contraceptive"
      ]
    },
    {
      "cell_type": "code",
      "metadata": {
        "id": "bqar2BQKz5oE",
        "colab_type": "code",
        "colab": {}
      },
      "source": [
        "def get_reviews(url, header, num_reviews):\n",
        "  contraceptive_reviews = []\n",
        "\n",
        "  for page_ind in range((num_reviews // 5) + 1):\n",
        "    reviews_url = url + \"&pageIndex={ind}&sortby=3&conditionFilter=-1\".format(ind = page_ind)\n",
        "    req = urllib.request.Request(reviews_url, headers=header)\n",
        "    html_page = urllib.request.urlopen( req )\n",
        "    soup = BeautifulSoup(html_page)\n",
        "\n",
        "    ratings = soup.findAll('div', {'class': 'userPost'})\n",
        "\n",
        "    for i in range(len(ratings)):\n",
        "      review = ratings[i]\n",
        "      reviewer_info = review.find('p', {'class': 'reviewerInfo'}).getText()\n",
        "      comment = review.find('p', {'id': 'comFull{num}'.format(num=i+1)}).getText()\n",
        "\n",
        "      contraceptive_reviews.append([reviewer_info, comment])\n",
        "    \n",
        "  return contraceptive_reviews"
      ],
      "execution_count": 0,
      "outputs": []
    },
    {
      "cell_type": "code",
      "metadata": {
        "id": "46jq-lbtNpsL",
        "colab_type": "code",
        "colab": {
          "base_uri": "https://localhost:8080/",
          "height": 119
        },
        "outputId": "d6bd9160-c0c3-4fb3-de03-7ba4f268398a"
      },
      "source": [
        "contraceptives['Review'] = contraceptives.apply(lambda row: get_reviews(row.Review_Link, header, int(row.Num_Reviews)), axis = 1)"
      ],
      "execution_count": 43,
      "outputs": [
        {
          "output_type": "stream",
          "text": [
            "/usr/local/lib/python3.6/dist-packages/ipykernel_launcher.py:1: SettingWithCopyWarning: \n",
            "A value is trying to be set on a copy of a slice from a DataFrame.\n",
            "Try using .loc[row_indexer,col_indexer] = value instead\n",
            "\n",
            "See the caveats in the documentation: https://pandas.pydata.org/pandas-docs/stable/user_guide/indexing.html#returning-a-view-versus-a-copy\n",
            "  \"\"\"Entry point for launching an IPython kernel.\n"
          ],
          "name": "stderr"
        }
      ]
    },
    {
      "cell_type": "code",
      "metadata": {
        "id": "ja5KkuJqRSsR",
        "colab_type": "code",
        "colab": {
          "base_uri": "https://localhost:8080/",
          "height": 204
        },
        "outputId": "f25387ca-b342-4f01-f530-b194ad4f769e"
      },
      "source": [
        "contraceptives.head()"
      ],
      "execution_count": 44,
      "outputs": [
        {
          "output_type": "execute_result",
          "data": {
            "text/html": [
              "<div>\n",
              "<style scoped>\n",
              "    .dataframe tbody tr th:only-of-type {\n",
              "        vertical-align: middle;\n",
              "    }\n",
              "\n",
              "    .dataframe tbody tr th {\n",
              "        vertical-align: top;\n",
              "    }\n",
              "\n",
              "    .dataframe thead th {\n",
              "        text-align: right;\n",
              "    }\n",
              "</style>\n",
              "<table border=\"1\" class=\"dataframe\">\n",
              "  <thead>\n",
              "    <tr style=\"text-align: right;\">\n",
              "      <th></th>\n",
              "      <th>Drug Name</th>\n",
              "      <th>Indication</th>\n",
              "      <th>Type</th>\n",
              "      <th>User Reviews</th>\n",
              "      <th>Review_Link</th>\n",
              "      <th>Num_Reviews</th>\n",
              "      <th>Review</th>\n",
              "    </tr>\n",
              "  </thead>\n",
              "  <tbody>\n",
              "    <tr>\n",
              "      <th>0</th>\n",
              "      <td>Mirena Intrauterine Device</td>\n",
              "      <td>On Label</td>\n",
              "      <td>RX</td>\n",
              "      <td>1763 Reviews</td>\n",
              "      <td>https://www.webmd.com/drugs/drugreview-20420-m...</td>\n",
              "      <td>1763</td>\n",
              "      <td>[[Reviewer: Carouselambra, 25-34 on Treatment ...</td>\n",
              "    </tr>\n",
              "    <tr>\n",
              "      <th>1</th>\n",
              "      <td>Sprintec</td>\n",
              "      <td>On Label</td>\n",
              "      <td>RX</td>\n",
              "      <td>960 Reviews</td>\n",
              "      <td>https://www.webmd.com/drugs/drugreview-64195-s...</td>\n",
              "      <td>960</td>\n",
              "      <td>[[Reviewer: HowInTheHeck, 25-34 Female  on Tre...</td>\n",
              "    </tr>\n",
              "    <tr>\n",
              "      <th>2</th>\n",
              "      <td>YAZ</td>\n",
              "      <td>On Label</td>\n",
              "      <td>RX</td>\n",
              "      <td>683 Reviews</td>\n",
              "      <td>https://www.webmd.com/drugs/drugreview-95358-y...</td>\n",
              "      <td>683</td>\n",
              "      <td>[[Reviewer: Tish, 35-44 on Treatment for less ...</td>\n",
              "    </tr>\n",
              "    <tr>\n",
              "      <th>3</th>\n",
              "      <td>Tri-Sprintec</td>\n",
              "      <td>On Label</td>\n",
              "      <td>RX</td>\n",
              "      <td>640 Reviews</td>\n",
              "      <td>https://www.webmd.com/drugs/drugreview-78136-t...</td>\n",
              "      <td>640</td>\n",
              "      <td>[[Reviewer: 35-44 Female  on Treatment for 10 ...</td>\n",
              "    </tr>\n",
              "    <tr>\n",
              "      <th>4</th>\n",
              "      <td>Loestrin 24 Fe tablet</td>\n",
              "      <td>On Label</td>\n",
              "      <td>RX</td>\n",
              "      <td>620 Reviews</td>\n",
              "      <td>https://www.webmd.com/drugs/drugreview-95194-l...</td>\n",
              "      <td>620</td>\n",
              "      <td>[[Reviewer: NV, 35-44 Female  on Treatment for...</td>\n",
              "    </tr>\n",
              "  </tbody>\n",
              "</table>\n",
              "</div>"
            ],
            "text/plain": [
              "                    Drug Name  ...                                             Review\n",
              "0  Mirena Intrauterine Device  ...  [[Reviewer: Carouselambra, 25-34 on Treatment ...\n",
              "1                    Sprintec  ...  [[Reviewer: HowInTheHeck, 25-34 Female  on Tre...\n",
              "2                         YAZ  ...  [[Reviewer: Tish, 35-44 on Treatment for less ...\n",
              "3                Tri-Sprintec  ...  [[Reviewer: 35-44 Female  on Treatment for 10 ...\n",
              "4       Loestrin 24 Fe tablet  ...  [[Reviewer: NV, 35-44 Female  on Treatment for...\n",
              "\n",
              "[5 rows x 7 columns]"
            ]
          },
          "metadata": {
            "tags": []
          },
          "execution_count": 44
        }
      ]
    },
    {
      "cell_type": "markdown",
      "metadata": {
        "id": "fTnbMv0q1iq4",
        "colab_type": "text"
      },
      "source": [
        "# Part 3: Extract the age range of the reviewer, their contraceptive treatment length, and comment"
      ]
    },
    {
      "cell_type": "code",
      "metadata": {
        "id": "G9KpTqtjwNiE",
        "colab_type": "code",
        "colab": {}
      },
      "source": [
        "def get_treatment_length(reviewer_info):\n",
        "  rev_info_split = reviewer_info.split('Treatment for')\n",
        "  if rev_info_split[0] != reviewer_info:\n",
        "    return rev_info_split[1].split('(Patient)')[0]\n",
        "  return \"\""
      ],
      "execution_count": 0,
      "outputs": []
    },
    {
      "cell_type": "code",
      "metadata": {
        "id": "gqUhjYMFYCoi",
        "colab_type": "code",
        "colab": {}
      },
      "source": [
        "webmd_contraceptive_reviews = contraceptives.explode(\"Review\")\n",
        "webmd_contraceptive_reviews[['Reviewer_Info','Comment']] = pd.DataFrame(webmd_contraceptive_reviews.Review.tolist(), index= webmd_contraceptive_reviews.index)\n",
        "webmd_contraceptive_reviews['Reviewer_Age_Range'] = webmd_contraceptive_reviews['Reviewer_Info'].str.extract(r'([0-9][0-9]\\-[0-9][0-9])')\n",
        "webmd_contraceptive_reviews['Treatment_Length'] = webmd_contraceptive_reviews.apply(lambda row: get_treatment_length(row.Reviewer_Info), axis = 1)\n",
        "webmd_contraceptive_reviews['Comment'] = webmd_contraceptive_reviews['Comment'].str.replace('Comment:', '').str.replace('Hide Full Comment', '')"
      ],
      "execution_count": 0,
      "outputs": []
    },
    {
      "cell_type": "code",
      "metadata": {
        "id": "A0Ojai5ybkHL",
        "colab_type": "code",
        "colab": {
          "base_uri": "https://localhost:8080/",
          "height": 204
        },
        "outputId": "d7b51e30-521e-4ed2-d320-667cf5fd8592"
      },
      "source": [
        "webmd_contraceptive_reviews.drop(columns=['Type', 'User Reviews', 'Review_Link', 'Review', 'Num_Reviews', 'Indication', 'Reviewer_Info'], inplace=True)\n",
        "webmd_contraceptive_reviews.reset_index(inplace=True, drop=True)\n",
        "webmd_contraceptive_reviews.head()"
      ],
      "execution_count": 94,
      "outputs": [
        {
          "output_type": "execute_result",
          "data": {
            "text/html": [
              "<div>\n",
              "<style scoped>\n",
              "    .dataframe tbody tr th:only-of-type {\n",
              "        vertical-align: middle;\n",
              "    }\n",
              "\n",
              "    .dataframe tbody tr th {\n",
              "        vertical-align: top;\n",
              "    }\n",
              "\n",
              "    .dataframe thead th {\n",
              "        text-align: right;\n",
              "    }\n",
              "</style>\n",
              "<table border=\"1\" class=\"dataframe\">\n",
              "  <thead>\n",
              "    <tr style=\"text-align: right;\">\n",
              "      <th></th>\n",
              "      <th>Drug Name</th>\n",
              "      <th>Comment</th>\n",
              "      <th>Reviewer_Age_Range</th>\n",
              "      <th>Treatment_Length</th>\n",
              "    </tr>\n",
              "  </thead>\n",
              "  <tbody>\n",
              "    <tr>\n",
              "      <th>0</th>\n",
              "      <td>Mirena Intrauterine Device</td>\n",
              "      <td>I did initially experience excruciating, breat...</td>\n",
              "      <td>25-34</td>\n",
              "      <td>5 to less than 10 years</td>\n",
              "    </tr>\n",
              "    <tr>\n",
              "      <th>1</th>\n",
              "      <td>Mirena Intrauterine Device</td>\n",
              "      <td>Memory Loss!!! Never again on any form of birt...</td>\n",
              "      <td>35-44</td>\n",
              "      <td>2 to less than 5 years</td>\n",
              "    </tr>\n",
              "    <tr>\n",
              "      <th>2</th>\n",
              "      <td>Mirena Intrauterine Device</td>\n",
              "      <td>Horrible experience would not recommend to nob...</td>\n",
              "      <td>NaN</td>\n",
              "      <td></td>\n",
              "    </tr>\n",
              "    <tr>\n",
              "      <th>3</th>\n",
              "      <td>Mirena Intrauterine Device</td>\n",
              "      <td>I had a Mirena placed in me in 2006. I had maj...</td>\n",
              "      <td>45-54</td>\n",
              "      <td>5 to less than 10 years</td>\n",
              "    </tr>\n",
              "    <tr>\n",
              "      <th>4</th>\n",
              "      <td>Mirena Intrauterine Device</td>\n",
              "      <td>The Mirena IUD was the worst thing to ever hap...</td>\n",
              "      <td>19-24</td>\n",
              "      <td>2 to less than 5 years</td>\n",
              "    </tr>\n",
              "  </tbody>\n",
              "</table>\n",
              "</div>"
            ],
            "text/plain": [
              "                    Drug Name  ...           Treatment_Length\n",
              "0  Mirena Intrauterine Device  ...   5 to less than 10 years \n",
              "1  Mirena Intrauterine Device  ...    2 to less than 5 years \n",
              "2  Mirena Intrauterine Device  ...                           \n",
              "3  Mirena Intrauterine Device  ...   5 to less than 10 years \n",
              "4  Mirena Intrauterine Device  ...    2 to less than 5 years \n",
              "\n",
              "[5 rows x 4 columns]"
            ]
          },
          "metadata": {
            "tags": []
          },
          "execution_count": 94
        }
      ]
    },
    {
      "cell_type": "code",
      "metadata": {
        "id": "0TepshqkdYu9",
        "colab_type": "code",
        "colab": {}
      },
      "source": [
        "webmd_contraceptive_reviews.to_csv('webmd_contraceptive_reviews.csv')\n",
        "!cp webmd_contraceptive_reviews.csv \"drive/My Drive/\""
      ],
      "execution_count": 0,
      "outputs": []
    },
    {
      "cell_type": "code",
      "metadata": {
        "id": "aozyQjwXyNAo",
        "colab_type": "code",
        "colab": {}
      },
      "source": [
        ""
      ],
      "execution_count": 0,
      "outputs": []
    }
  ]
}