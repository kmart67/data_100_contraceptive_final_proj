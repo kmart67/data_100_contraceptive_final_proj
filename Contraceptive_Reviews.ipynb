{
  "nbformat": 4,
  "nbformat_minor": 0,
  "metadata": {
    "colab": {
      "name": "Contraceptive_Reviews.ipynb",
      "provenance": [],
      "collapsed_sections": [],
      "authorship_tag": "ABX9TyNQfblwAeukQtAPbAnitW23"
    },
    "kernelspec": {
      "name": "python3",
      "display_name": "Python 3"
    }
  },
  "cells": [
    {
      "cell_type": "markdown",
      "metadata": {
        "id": "-HroGVI4zklc",
        "colab_type": "text"
      },
      "source": [
        "# Part 1: Extract list of all contraceptives listed on WebMD with reviews. "
      ]
    },
    {
      "cell_type": "code",
      "metadata": {
        "id": "nFjS_osizthc",
        "colab_type": "code",
        "colab": {}
      },
      "source": [
        "import pandas as pd\n",
        "import html5lib\n",
        "import requests\n",
        "from bs4 import BeautifulSoup\n",
        "import re\n",
        "import urllib"
      ],
      "execution_count": 0,
      "outputs": []
    },
    {
      "cell_type": "code",
      "metadata": {
        "id": "snjRYp9Wq7Yl",
        "colab_type": "code",
        "colab": {}
      },
      "source": [
        "#extract list of all contraceptives in webmd and save them into a DataFrame\n",
        "contraception_url = \"https://www.webmd.com/drugs/2/condition-3454/pregnancy%20contraception\"\n",
        "\n",
        "header = {\n",
        "  \"User-Agent\": \"Mozilla/5.0 (X11; Linux x86_64) AppleWebKit/537.36 (KHTML, like Gecko) Chrome/50.0.2661.75 Safari/537.36\",\n",
        "  \"X-Requested-With\": \"XMLHttpRequest\"\n",
        "}\n",
        "\n",
        "r = requests.get(contraception_url, headers=header)\n",
        "\n",
        "contraceptives = pd.read_html(r.text)[0]"
      ],
      "execution_count": 0,
      "outputs": []
    },
    {
      "cell_type": "code",
      "metadata": {
        "id": "igPfAXVTuBgJ",
        "colab_type": "code",
        "colab": {}
      },
      "source": [
        "#going to extract links to drug reviews\n",
        "req = urllib.request.Request(contraception_url, headers={'User-Agent' : \"Magic Browser\"}) \n",
        "html_page = urllib.request.urlopen( req )\n",
        "soup = BeautifulSoup(html_page)\n",
        "\n",
        "contraceptive_table = soup.find('table', {'class': 'drugs-treatments-table'})\n",
        "review_links = []\n",
        "\n",
        "for drug_link in contraceptive_table.findAll('a'):\n",
        "    link = drug_link.get('href')\n",
        "    if \"drugreview\" in link:\n",
        "      review_links.append(\"https://www.webmd.com\" + link)\n",
        "\n",
        "contraceptives['Review_Link'] = pd.Series(review_links)"
      ],
      "execution_count": 0,
      "outputs": []
    },
    {
      "cell_type": "code",
      "metadata": {
        "id": "VQosCtIy0akb",
        "colab_type": "code",
        "outputId": "d25f5861-623e-4f00-aad9-823d0fcd84a1",
        "colab": {
          "base_uri": "https://localhost:8080/",
          "height": 359
        }
      },
      "source": [
        "contraceptives.head(10)"
      ],
      "execution_count": 4,
      "outputs": [
        {
          "output_type": "execute_result",
          "data": {
            "text/html": [
              "<div>\n",
              "<style scoped>\n",
              "    .dataframe tbody tr th:only-of-type {\n",
              "        vertical-align: middle;\n",
              "    }\n",
              "\n",
              "    .dataframe tbody tr th {\n",
              "        vertical-align: top;\n",
              "    }\n",
              "\n",
              "    .dataframe thead th {\n",
              "        text-align: right;\n",
              "    }\n",
              "</style>\n",
              "<table border=\"1\" class=\"dataframe\">\n",
              "  <thead>\n",
              "    <tr style=\"text-align: right;\">\n",
              "      <th></th>\n",
              "      <th>Drug Name</th>\n",
              "      <th>Indication</th>\n",
              "      <th>Type</th>\n",
              "      <th>User Reviews</th>\n",
              "      <th>Review_Link</th>\n",
              "    </tr>\n",
              "  </thead>\n",
              "  <tbody>\n",
              "    <tr>\n",
              "      <th>0</th>\n",
              "      <td>Mirena Intrauterine Device</td>\n",
              "      <td>On Label</td>\n",
              "      <td>RX</td>\n",
              "      <td>1763 Reviews</td>\n",
              "      <td>https://www.webmd.com/drugs/drugreview-20420-m...</td>\n",
              "    </tr>\n",
              "    <tr>\n",
              "      <th>1</th>\n",
              "      <td>Sprintec</td>\n",
              "      <td>On Label</td>\n",
              "      <td>RX</td>\n",
              "      <td>960 Reviews</td>\n",
              "      <td>https://www.webmd.com/drugs/drugreview-64195-s...</td>\n",
              "    </tr>\n",
              "    <tr>\n",
              "      <th>2</th>\n",
              "      <td>YAZ</td>\n",
              "      <td>On Label</td>\n",
              "      <td>RX</td>\n",
              "      <td>683 Reviews</td>\n",
              "      <td>https://www.webmd.com/drugs/drugreview-95358-y...</td>\n",
              "    </tr>\n",
              "    <tr>\n",
              "      <th>3</th>\n",
              "      <td>Tri-Sprintec</td>\n",
              "      <td>On Label</td>\n",
              "      <td>RX</td>\n",
              "      <td>640 Reviews</td>\n",
              "      <td>https://www.webmd.com/drugs/drugreview-78136-t...</td>\n",
              "    </tr>\n",
              "    <tr>\n",
              "      <th>4</th>\n",
              "      <td>Loestrin 24 Fe tablet</td>\n",
              "      <td>On Label</td>\n",
              "      <td>RX</td>\n",
              "      <td>620 Reviews</td>\n",
              "      <td>https://www.webmd.com/drugs/drugreview-95194-l...</td>\n",
              "    </tr>\n",
              "    <tr>\n",
              "      <th>5</th>\n",
              "      <td>NuvaRing Ring, Vaginal</td>\n",
              "      <td>On Label</td>\n",
              "      <td>RX</td>\n",
              "      <td>591 Reviews</td>\n",
              "      <td>https://www.webmd.com/drugs/drugreview-63410-n...</td>\n",
              "    </tr>\n",
              "    <tr>\n",
              "      <th>6</th>\n",
              "      <td>ParaGard T 380-A Intrauterine Device</td>\n",
              "      <td>On Label</td>\n",
              "      <td>RX</td>\n",
              "      <td>516 Reviews</td>\n",
              "      <td>https://www.webmd.com/drugs/drugreview-13028-p...</td>\n",
              "    </tr>\n",
              "    <tr>\n",
              "      <th>7</th>\n",
              "      <td>Implanon Implant</td>\n",
              "      <td>On Label</td>\n",
              "      <td>RX</td>\n",
              "      <td>475 Reviews</td>\n",
              "      <td>https://www.webmd.com/drugs/drugreview-144857-...</td>\n",
              "    </tr>\n",
              "    <tr>\n",
              "      <th>8</th>\n",
              "      <td>Depo-Provera Contraceptive Suspension</td>\n",
              "      <td>On Label</td>\n",
              "      <td>RX</td>\n",
              "      <td>452 Reviews</td>\n",
              "      <td>https://www.webmd.com/drugs/drugreview-53357-d...</td>\n",
              "    </tr>\n",
              "    <tr>\n",
              "      <th>9</th>\n",
              "      <td>Nexplanon Implant</td>\n",
              "      <td>On Label</td>\n",
              "      <td>RX</td>\n",
              "      <td>415 Reviews</td>\n",
              "      <td>https://www.webmd.com/drugs/drugreview-156597-...</td>\n",
              "    </tr>\n",
              "  </tbody>\n",
              "</table>\n",
              "</div>"
            ],
            "text/plain": [
              "                               Drug Name  ...                                        Review_Link\n",
              "0             Mirena Intrauterine Device  ...  https://www.webmd.com/drugs/drugreview-20420-m...\n",
              "1                               Sprintec  ...  https://www.webmd.com/drugs/drugreview-64195-s...\n",
              "2                                    YAZ  ...  https://www.webmd.com/drugs/drugreview-95358-y...\n",
              "3                           Tri-Sprintec  ...  https://www.webmd.com/drugs/drugreview-78136-t...\n",
              "4                  Loestrin 24 Fe tablet  ...  https://www.webmd.com/drugs/drugreview-95194-l...\n",
              "5                 NuvaRing Ring, Vaginal  ...  https://www.webmd.com/drugs/drugreview-63410-n...\n",
              "6   ParaGard T 380-A Intrauterine Device  ...  https://www.webmd.com/drugs/drugreview-13028-p...\n",
              "7                       Implanon Implant  ...  https://www.webmd.com/drugs/drugreview-144857-...\n",
              "8  Depo-Provera Contraceptive Suspension  ...  https://www.webmd.com/drugs/drugreview-53357-d...\n",
              "9                      Nexplanon Implant  ...  https://www.webmd.com/drugs/drugreview-156597-...\n",
              "\n",
              "[10 rows x 5 columns]"
            ]
          },
          "metadata": {
            "tags": []
          },
          "execution_count": 4
        }
      ]
    },
    {
      "cell_type": "code",
      "metadata": {
        "id": "pmaYYnKCrtPd",
        "colab_type": "code",
        "colab": {}
      },
      "source": [
        "reviews = contraceptives[\"User Reviews\"].str.split(\" \", n = 1, expand = True)\n",
        "contraceptives[\"Num_Reviews\"] = reviews[0]\n",
        "contraceptives = contraceptives[contraceptives[\"Num_Reviews\"] > \"0\"]"
      ],
      "execution_count": 0,
      "outputs": []
    },
    {
      "cell_type": "code",
      "metadata": {
        "id": "w27YjJoWti-N",
        "colab_type": "code",
        "outputId": "47fdd221-7cff-450c-8e1a-584ab1395618",
        "colab": {
          "base_uri": "https://localhost:8080/",
          "height": 419
        }
      },
      "source": [
        "contraceptives"
      ],
      "execution_count": 6,
      "outputs": [
        {
          "output_type": "execute_result",
          "data": {
            "text/html": [
              "<div>\n",
              "<style scoped>\n",
              "    .dataframe tbody tr th:only-of-type {\n",
              "        vertical-align: middle;\n",
              "    }\n",
              "\n",
              "    .dataframe tbody tr th {\n",
              "        vertical-align: top;\n",
              "    }\n",
              "\n",
              "    .dataframe thead th {\n",
              "        text-align: right;\n",
              "    }\n",
              "</style>\n",
              "<table border=\"1\" class=\"dataframe\">\n",
              "  <thead>\n",
              "    <tr style=\"text-align: right;\">\n",
              "      <th></th>\n",
              "      <th>Drug Name</th>\n",
              "      <th>Indication</th>\n",
              "      <th>Type</th>\n",
              "      <th>User Reviews</th>\n",
              "      <th>Review_Link</th>\n",
              "      <th>Num_Reviews</th>\n",
              "    </tr>\n",
              "  </thead>\n",
              "  <tbody>\n",
              "    <tr>\n",
              "      <th>0</th>\n",
              "      <td>Mirena Intrauterine Device</td>\n",
              "      <td>On Label</td>\n",
              "      <td>RX</td>\n",
              "      <td>1763 Reviews</td>\n",
              "      <td>https://www.webmd.com/drugs/drugreview-20420-m...</td>\n",
              "      <td>1763</td>\n",
              "    </tr>\n",
              "    <tr>\n",
              "      <th>1</th>\n",
              "      <td>Sprintec</td>\n",
              "      <td>On Label</td>\n",
              "      <td>RX</td>\n",
              "      <td>960 Reviews</td>\n",
              "      <td>https://www.webmd.com/drugs/drugreview-64195-s...</td>\n",
              "      <td>960</td>\n",
              "    </tr>\n",
              "    <tr>\n",
              "      <th>2</th>\n",
              "      <td>YAZ</td>\n",
              "      <td>On Label</td>\n",
              "      <td>RX</td>\n",
              "      <td>683 Reviews</td>\n",
              "      <td>https://www.webmd.com/drugs/drugreview-95358-y...</td>\n",
              "      <td>683</td>\n",
              "    </tr>\n",
              "    <tr>\n",
              "      <th>3</th>\n",
              "      <td>Tri-Sprintec</td>\n",
              "      <td>On Label</td>\n",
              "      <td>RX</td>\n",
              "      <td>640 Reviews</td>\n",
              "      <td>https://www.webmd.com/drugs/drugreview-78136-t...</td>\n",
              "      <td>640</td>\n",
              "    </tr>\n",
              "    <tr>\n",
              "      <th>4</th>\n",
              "      <td>Loestrin 24 Fe tablet</td>\n",
              "      <td>On Label</td>\n",
              "      <td>RX</td>\n",
              "      <td>620 Reviews</td>\n",
              "      <td>https://www.webmd.com/drugs/drugreview-95194-l...</td>\n",
              "      <td>620</td>\n",
              "    </tr>\n",
              "    <tr>\n",
              "      <th>...</th>\n",
              "      <td>...</td>\n",
              "      <td>...</td>\n",
              "      <td>...</td>\n",
              "      <td>...</td>\n",
              "      <td>...</td>\n",
              "      <td>...</td>\n",
              "    </tr>\n",
              "    <tr>\n",
              "      <th>273</th>\n",
              "      <td>Taytulla</td>\n",
              "      <td>On Label</td>\n",
              "      <td>RX</td>\n",
              "      <td>1 Reviews</td>\n",
              "      <td>https://www.webmd.com/drugs/drugreview-172561-...</td>\n",
              "      <td>1</td>\n",
              "    </tr>\n",
              "    <tr>\n",
              "      <th>274</th>\n",
              "      <td>Levonest</td>\n",
              "      <td>On Label</td>\n",
              "      <td>RX</td>\n",
              "      <td>1 Reviews</td>\n",
              "      <td>https://www.webmd.com/drugs/drugreview-162075-...</td>\n",
              "      <td>1</td>\n",
              "    </tr>\n",
              "    <tr>\n",
              "      <th>275</th>\n",
              "      <td>Tri-Levlen (21) tablet</td>\n",
              "      <td>On Label</td>\n",
              "      <td>RX</td>\n",
              "      <td>1 Reviews</td>\n",
              "      <td>https://www.webmd.com/drugs/drugreview-17178-t...</td>\n",
              "      <td>1</td>\n",
              "    </tr>\n",
              "    <tr>\n",
              "      <th>276</th>\n",
              "      <td>Hailey 24 Fe</td>\n",
              "      <td>On Label</td>\n",
              "      <td>RX</td>\n",
              "      <td>1 Reviews</td>\n",
              "      <td>https://www.webmd.com/drugs/drugreview-176597-...</td>\n",
              "      <td>1</td>\n",
              "    </tr>\n",
              "    <tr>\n",
              "      <th>277</th>\n",
              "      <td>ETHYNODIOL-ETHINYL estradiol</td>\n",
              "      <td>On Label</td>\n",
              "      <td>RX</td>\n",
              "      <td>1 Reviews</td>\n",
              "      <td>https://www.webmd.com/drugs/drugreview-6749-et...</td>\n",
              "      <td>1</td>\n",
              "    </tr>\n",
              "  </tbody>\n",
              "</table>\n",
              "<p>278 rows × 6 columns</p>\n",
              "</div>"
            ],
            "text/plain": [
              "                        Drug Name  ... Num_Reviews\n",
              "0      Mirena Intrauterine Device  ...        1763\n",
              "1                        Sprintec  ...         960\n",
              "2                             YAZ  ...         683\n",
              "3                    Tri-Sprintec  ...         640\n",
              "4           Loestrin 24 Fe tablet  ...         620\n",
              "..                            ...  ...         ...\n",
              "273                      Taytulla  ...           1\n",
              "274                      Levonest  ...           1\n",
              "275        Tri-Levlen (21) tablet  ...           1\n",
              "276                  Hailey 24 Fe  ...           1\n",
              "277  ETHYNODIOL-ETHINYL estradiol  ...           1\n",
              "\n",
              "[278 rows x 6 columns]"
            ]
          },
          "metadata": {
            "tags": []
          },
          "execution_count": 6
        }
      ]
    },
    {
      "cell_type": "markdown",
      "metadata": {
        "id": "od-Fhgqk0DKh",
        "colab_type": "text"
      },
      "source": [
        "# Part 2: Follow links to contraceptive reviews to extract reviews for each contraceptive"
      ]
    },
    {
      "cell_type": "code",
      "metadata": {
        "id": "bqar2BQKz5oE",
        "colab_type": "code",
        "colab": {}
      },
      "source": [
        "def get_reviews(url, header, num_reviews):\n",
        "  contraceptive_reviews = []\n",
        "\n",
        "  for page_ind in range((num_reviews // 5) + 1):\n",
        "    reviews_url = url + \"&pageIndex={ind}&sortby=3&conditionFilter=-1\".format(ind = page_ind)\n",
        "    req = urllib.request.Request(reviews_url, headers=header)\n",
        "    html_page = urllib.request.urlopen( req )\n",
        "    soup = BeautifulSoup(html_page)\n",
        "\n",
        "    ratings = soup.findAll('div', {'class': 'userPost'})\n",
        "\n",
        "    for i in range(len(ratings)):\n",
        "      review = ratings[i]\n",
        "      reviewer_info = review.find('p', {'class': 'reviewerInfo'}).getText()\n",
        "      comment = review.find('p', {'id': 'comFull{num}'.format(num=i+1)}).getText()\n",
        "\n",
        "      contraceptive_reviews.append([reviewer_info, comment])\n",
        "    \n",
        "  return contraceptive_reviews"
      ],
      "execution_count": 0,
      "outputs": []
    },
    {
      "cell_type": "code",
      "metadata": {
        "id": "46jq-lbtNpsL",
        "colab_type": "code",
        "colab": {}
      },
      "source": [
        "contraceptives['Review'] = contraceptives.apply(lambda row: get_reviews(row.Re   view_Link, header, int(row.Num_Reviews)), axis = 1)"
      ],
      "execution_count": 0,
      "outputs": []
    },
    {
      "cell_type": "code",
      "metadata": {
        "id": "ja5KkuJqRSsR",
        "colab_type": "code",
        "colab": {
          "base_uri": "https://localhost:8080/",
          "height": 204
        },
        "outputId": "62582f30-c89f-409b-c509-1d6d62e29e06"
      },
      "source": [
        "contraceptives.head()"
      ],
      "execution_count": 9,
      "outputs": [
        {
          "output_type": "execute_result",
          "data": {
            "text/html": [
              "<div>\n",
              "<style scoped>\n",
              "    .dataframe tbody tr th:only-of-type {\n",
              "        vertical-align: middle;\n",
              "    }\n",
              "\n",
              "    .dataframe tbody tr th {\n",
              "        vertical-align: top;\n",
              "    }\n",
              "\n",
              "    .dataframe thead th {\n",
              "        text-align: right;\n",
              "    }\n",
              "</style>\n",
              "<table border=\"1\" class=\"dataframe\">\n",
              "  <thead>\n",
              "    <tr style=\"text-align: right;\">\n",
              "      <th></th>\n",
              "      <th>Drug Name</th>\n",
              "      <th>Indication</th>\n",
              "      <th>Type</th>\n",
              "      <th>User Reviews</th>\n",
              "      <th>Review_Link</th>\n",
              "      <th>Num_Reviews</th>\n",
              "      <th>Review</th>\n",
              "    </tr>\n",
              "  </thead>\n",
              "  <tbody>\n",
              "    <tr>\n",
              "      <th>0</th>\n",
              "      <td>Mirena Intrauterine Device</td>\n",
              "      <td>On Label</td>\n",
              "      <td>RX</td>\n",
              "      <td>1763 Reviews</td>\n",
              "      <td>https://www.webmd.com/drugs/drugreview-20420-m...</td>\n",
              "      <td>1763</td>\n",
              "      <td>[[Reviewer: Carouselambra, 25-34 on Treatment ...</td>\n",
              "    </tr>\n",
              "    <tr>\n",
              "      <th>1</th>\n",
              "      <td>Sprintec</td>\n",
              "      <td>On Label</td>\n",
              "      <td>RX</td>\n",
              "      <td>960 Reviews</td>\n",
              "      <td>https://www.webmd.com/drugs/drugreview-64195-s...</td>\n",
              "      <td>960</td>\n",
              "      <td>[[Reviewer: HowInTheHeck, 25-34 Female  on Tre...</td>\n",
              "    </tr>\n",
              "    <tr>\n",
              "      <th>2</th>\n",
              "      <td>YAZ</td>\n",
              "      <td>On Label</td>\n",
              "      <td>RX</td>\n",
              "      <td>683 Reviews</td>\n",
              "      <td>https://www.webmd.com/drugs/drugreview-95358-y...</td>\n",
              "      <td>683</td>\n",
              "      <td>[[Reviewer: Tish, 35-44 on Treatment for less ...</td>\n",
              "    </tr>\n",
              "    <tr>\n",
              "      <th>3</th>\n",
              "      <td>Tri-Sprintec</td>\n",
              "      <td>On Label</td>\n",
              "      <td>RX</td>\n",
              "      <td>640 Reviews</td>\n",
              "      <td>https://www.webmd.com/drugs/drugreview-78136-t...</td>\n",
              "      <td>640</td>\n",
              "      <td>[[Reviewer: 35-44 Female  on Treatment for 10 ...</td>\n",
              "    </tr>\n",
              "    <tr>\n",
              "      <th>4</th>\n",
              "      <td>Loestrin 24 Fe tablet</td>\n",
              "      <td>On Label</td>\n",
              "      <td>RX</td>\n",
              "      <td>620 Reviews</td>\n",
              "      <td>https://www.webmd.com/drugs/drugreview-95194-l...</td>\n",
              "      <td>620</td>\n",
              "      <td>[[Reviewer: NV, 35-44 Female  on Treatment for...</td>\n",
              "    </tr>\n",
              "  </tbody>\n",
              "</table>\n",
              "</div>"
            ],
            "text/plain": [
              "                    Drug Name  ...                                             Review\n",
              "0  Mirena Intrauterine Device  ...  [[Reviewer: Carouselambra, 25-34 on Treatment ...\n",
              "1                    Sprintec  ...  [[Reviewer: HowInTheHeck, 25-34 Female  on Tre...\n",
              "2                         YAZ  ...  [[Reviewer: Tish, 35-44 on Treatment for less ...\n",
              "3                Tri-Sprintec  ...  [[Reviewer: 35-44 Female  on Treatment for 10 ...\n",
              "4       Loestrin 24 Fe tablet  ...  [[Reviewer: NV, 35-44 Female  on Treatment for...\n",
              "\n",
              "[5 rows x 7 columns]"
            ]
          },
          "metadata": {
            "tags": []
          },
          "execution_count": 9
        }
      ]
    },
    {
      "cell_type": "markdown",
      "metadata": {
        "id": "fTnbMv0q1iq4",
        "colab_type": "text"
      },
      "source": [
        "# Part 3: Extract the age range of the reviewer, their contraceptive treatment length, and comment"
      ]
    },
    {
      "cell_type": "code",
      "metadata": {
        "id": "G9KpTqtjwNiE",
        "colab_type": "code",
        "colab": {}
      },
      "source": [
        "def get_treatment_length(reviewer_info):\n",
        "  rev_info_split = reviewer_info.split('Treatment for')\n",
        "  if rev_info_split[0] != reviewer_info:\n",
        "    return rev_info_split[1].split('(Patient)')[0]\n",
        "  return \"\""
      ],
      "execution_count": 0,
      "outputs": []
    },
    {
      "cell_type": "code",
      "metadata": {
        "id": "gqUhjYMFYCoi",
        "colab_type": "code",
        "colab": {}
      },
      "source": [
        "webmd_contraceptive_reviews = contraceptives.explode(\"Review\")\n",
        "webmd_contraceptive_reviews[['Reviewer_Info','Comment']] = pd.DataFrame(webmd_contraceptive_reviews.Review.tolist(), index= webmd_contraceptive_reviews.index)\n",
        "webmd_contraceptive_reviews['Reviewer_Age_Range'] = webmd_contraceptive_reviews['Reviewer_Info'].str.extract(r'([0-9][0-9]\\-[0-9][0-9])')\n",
        "webmd_contraceptive_reviews['Treatment_Length'] = webmd_contraceptive_reviews.apply(lambda row: get_treatment_length(row.Reviewer_Info), axis = 1)\n",
        "webmd_contraceptive_reviews['Comment'] = webmd_contraceptive_reviews['Comment'].str.replace('Comment:', '').str.replace('Hide Full Comment', '')"
      ],
      "execution_count": 0,
      "outputs": []
    },
    {
      "cell_type": "code",
      "metadata": {
        "id": "A0Ojai5ybkHL",
        "colab_type": "code",
        "colab": {
          "base_uri": "https://localhost:8080/",
          "height": 204
        },
        "outputId": "2f6ffe26-b622-404f-8bd6-c1619f768982"
      },
      "source": [
        "webmd_contraceptive_reviews.drop(columns=['Type', 'User Reviews', 'Review_Link', 'Review', 'Num_Reviews', 'Indication', 'Reviewer_Info'], inplace=True)\n",
        "webmd_contraceptive_reviews.reset_index(inplace=True, drop=True)\n",
        "webmd_contraceptive_reviews.head()"
      ],
      "execution_count": 12,
      "outputs": [
        {
          "output_type": "execute_result",
          "data": {
            "text/html": [
              "<div>\n",
              "<style scoped>\n",
              "    .dataframe tbody tr th:only-of-type {\n",
              "        vertical-align: middle;\n",
              "    }\n",
              "\n",
              "    .dataframe tbody tr th {\n",
              "        vertical-align: top;\n",
              "    }\n",
              "\n",
              "    .dataframe thead th {\n",
              "        text-align: right;\n",
              "    }\n",
              "</style>\n",
              "<table border=\"1\" class=\"dataframe\">\n",
              "  <thead>\n",
              "    <tr style=\"text-align: right;\">\n",
              "      <th></th>\n",
              "      <th>Drug Name</th>\n",
              "      <th>Comment</th>\n",
              "      <th>Reviewer_Age_Range</th>\n",
              "      <th>Treatment_Length</th>\n",
              "    </tr>\n",
              "  </thead>\n",
              "  <tbody>\n",
              "    <tr>\n",
              "      <th>0</th>\n",
              "      <td>Mirena Intrauterine Device</td>\n",
              "      <td>I did initially experience excruciating, breat...</td>\n",
              "      <td>25-34</td>\n",
              "      <td>5 to less than 10 years</td>\n",
              "    </tr>\n",
              "    <tr>\n",
              "      <th>1</th>\n",
              "      <td>Mirena Intrauterine Device</td>\n",
              "      <td>Memory Loss!!! Never again on any form of birt...</td>\n",
              "      <td>35-44</td>\n",
              "      <td>2 to less than 5 years</td>\n",
              "    </tr>\n",
              "    <tr>\n",
              "      <th>2</th>\n",
              "      <td>Mirena Intrauterine Device</td>\n",
              "      <td>Horrible experience would not recommend to nob...</td>\n",
              "      <td>NaN</td>\n",
              "      <td></td>\n",
              "    </tr>\n",
              "    <tr>\n",
              "      <th>3</th>\n",
              "      <td>Mirena Intrauterine Device</td>\n",
              "      <td>I had a Mirena placed in me in 2006. I had maj...</td>\n",
              "      <td>45-54</td>\n",
              "      <td>5 to less than 10 years</td>\n",
              "    </tr>\n",
              "    <tr>\n",
              "      <th>4</th>\n",
              "      <td>Mirena Intrauterine Device</td>\n",
              "      <td>The Mirena IUD was the worst thing to ever hap...</td>\n",
              "      <td>19-24</td>\n",
              "      <td>2 to less than 5 years</td>\n",
              "    </tr>\n",
              "  </tbody>\n",
              "</table>\n",
              "</div>"
            ],
            "text/plain": [
              "                    Drug Name  ...           Treatment_Length\n",
              "0  Mirena Intrauterine Device  ...   5 to less than 10 years \n",
              "1  Mirena Intrauterine Device  ...    2 to less than 5 years \n",
              "2  Mirena Intrauterine Device  ...                           \n",
              "3  Mirena Intrauterine Device  ...   5 to less than 10 years \n",
              "4  Mirena Intrauterine Device  ...    2 to less than 5 years \n",
              "\n",
              "[5 rows x 4 columns]"
            ]
          },
          "metadata": {
            "tags": []
          },
          "execution_count": 12
        }
      ]
    },
    {
      "cell_type": "code",
      "metadata": {
        "id": "0TepshqkdYu9",
        "colab_type": "code",
        "colab": {}
      },
      "source": [
        "webmd_contraceptive_reviews.to_csv('webmd_contraceptive_reviews.csv')\n",
        "!cp webmd_contraceptive_reviews.csv \"drive/My Drive/\""
      ],
      "execution_count": 0,
      "outputs": []
    },
    {
      "cell_type": "code",
      "metadata": {
        "id": "aozyQjwXyNAo",
        "colab_type": "code",
        "colab": {}
      },
      "source": [
        ""
      ],
      "execution_count": 0,
      "outputs": []
    }
  ]
}