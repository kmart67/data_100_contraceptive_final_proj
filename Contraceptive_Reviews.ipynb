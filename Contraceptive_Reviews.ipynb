{
 "cells": [
  {
   "cell_type": "markdown",
   "metadata": {
    "colab_type": "text",
    "id": "-HroGVI4zklc"
   },
   "source": [
    "# Part 1: Extract list of all contraceptives listed on WebMD with reviews. "
   ]
  },
  {
   "cell_type": "code",
   "execution_count": 1,
   "metadata": {
    "colab": {},
    "colab_type": "code",
    "id": "nFjS_osizthc"
   },
   "outputs": [],
   "source": [
    "import pandas as pd\n",
    "import html5lib\n",
    "import requests\n",
    "from bs4 import BeautifulSoup\n",
    "import re\n",
    "import urllib"
   ]
  },
  {
   "cell_type": "code",
   "execution_count": 2,
   "metadata": {
    "colab": {},
    "colab_type": "code",
    "id": "snjRYp9Wq7Yl"
   },
   "outputs": [],
   "source": [
    "#extract list of all contraceptives in webmd and save them into a DataFrame\n",
    "contraception_url = \"https://www.webmd.com/drugs/2/condition-3454/pregnancy%20contraception\"\n",
    "\n",
    "header = {\n",
    "  \"User-Agent\": \"Mozilla/5.0 (X11; Linux x86_64) AppleWebKit/537.36 (KHTML, like Gecko) Chrome/50.0.2661.75 Safari/537.36\",\n",
    "  \"X-Requested-With\": \"XMLHttpRequest\"\n",
    "}\n",
    "\n",
    "r = requests.get(contraception_url, headers=header)\n",
    "\n",
    "contraceptives = pd.read_html(r.text, flavor='html5lib')[0]"
   ]
  },
  {
   "cell_type": "code",
   "execution_count": 3,
   "metadata": {},
   "outputs": [
    {
     "data": {
      "text/html": [
       "<div>\n",
       "<style scoped>\n",
       "    .dataframe tbody tr th:only-of-type {\n",
       "        vertical-align: middle;\n",
       "    }\n",
       "\n",
       "    .dataframe tbody tr th {\n",
       "        vertical-align: top;\n",
       "    }\n",
       "\n",
       "    .dataframe thead th {\n",
       "        text-align: right;\n",
       "    }\n",
       "</style>\n",
       "<table border=\"1\" class=\"dataframe\">\n",
       "  <thead>\n",
       "    <tr style=\"text-align: right;\">\n",
       "      <th></th>\n",
       "      <th>Drug Name</th>\n",
       "      <th>Indication</th>\n",
       "      <th>Type</th>\n",
       "      <th>User Reviews</th>\n",
       "    </tr>\n",
       "  </thead>\n",
       "  <tbody>\n",
       "    <tr>\n",
       "      <th>0</th>\n",
       "      <td>Mirena Intrauterine Device</td>\n",
       "      <td>On Label</td>\n",
       "      <td>RX</td>\n",
       "      <td>1763 Reviews</td>\n",
       "    </tr>\n",
       "    <tr>\n",
       "      <th>1</th>\n",
       "      <td>Sprintec</td>\n",
       "      <td>On Label</td>\n",
       "      <td>RX</td>\n",
       "      <td>960 Reviews</td>\n",
       "    </tr>\n",
       "    <tr>\n",
       "      <th>2</th>\n",
       "      <td>YAZ</td>\n",
       "      <td>On Label</td>\n",
       "      <td>RX</td>\n",
       "      <td>683 Reviews</td>\n",
       "    </tr>\n",
       "    <tr>\n",
       "      <th>3</th>\n",
       "      <td>Tri-Sprintec</td>\n",
       "      <td>On Label</td>\n",
       "      <td>RX</td>\n",
       "      <td>640 Reviews</td>\n",
       "    </tr>\n",
       "    <tr>\n",
       "      <th>4</th>\n",
       "      <td>Loestrin 24 Fe tablet</td>\n",
       "      <td>On Label</td>\n",
       "      <td>RX</td>\n",
       "      <td>620 Reviews</td>\n",
       "    </tr>\n",
       "  </tbody>\n",
       "</table>\n",
       "</div>"
      ],
      "text/plain": [
       "                    Drug Name Indication Type  User Reviews\n",
       "0  Mirena Intrauterine Device   On Label   RX  1763 Reviews\n",
       "1                    Sprintec   On Label   RX   960 Reviews\n",
       "2                         YAZ   On Label   RX   683 Reviews\n",
       "3                Tri-Sprintec   On Label   RX   640 Reviews\n",
       "4       Loestrin 24 Fe tablet   On Label   RX   620 Reviews"
      ]
     },
     "execution_count": 3,
     "metadata": {},
     "output_type": "execute_result"
    }
   ],
   "source": [
    "contraceptives.head()"
   ]
  },
  {
   "cell_type": "code",
   "execution_count": 4,
   "metadata": {
    "colab": {},
    "colab_type": "code",
    "id": "igPfAXVTuBgJ"
   },
   "outputs": [],
   "source": [
    "#going to extract links to drug reviews\n",
    "req = urllib.request.Request(contraception_url, headers={'User-Agent' : \"Magic Browser\"}) \n",
    "html_page = urllib.request.urlopen( req )\n",
    "soup = BeautifulSoup(html_page)\n",
    "\n",
    "contraceptive_table = soup.find('table', {'class': 'drugs-treatments-table'})\n",
    "review_links = []\n",
    "\n",
    "for drug_link in contraceptive_table.findAll('a'):\n",
    "    link = drug_link.get('href')\n",
    "    if \"drugreview\" in link:\n",
    "      review_links.append(\"https://www.webmd.com\" + link)\n",
    "\n",
    "contraceptives['Review_Link'] = pd.Series(review_links)\n",
    "contraceptives.rename(columns={\"Drug Name\": \"Drug_Name\", \"User Reviews\": \"User_Reviews\"}, inplace=True)"
   ]
  },
  {
   "cell_type": "code",
   "execution_count": 5,
   "metadata": {
    "colab": {},
    "colab_type": "code",
    "id": "pmaYYnKCrtPd"
   },
   "outputs": [],
   "source": [
    "reviews = contraceptives[\"User_Reviews\"].str.split(\" \", n = 1, expand = True)\n",
    "contraceptives[\"Num_Reviews\"] = reviews[0]\n",
    "contraceptives = contraceptives[contraceptives[\"Num_Reviews\"] > \"0\"]"
   ]
  },
  {
   "cell_type": "code",
   "execution_count": 6,
   "metadata": {
    "colab": {
     "base_uri": "https://localhost:8080/",
     "height": 419
    },
    "colab_type": "code",
    "id": "w27YjJoWti-N",
    "outputId": "e08ce49c-178f-4326-a11a-80d48150a19e"
   },
   "outputs": [
    {
     "data": {
      "text/html": [
       "<div>\n",
       "<style scoped>\n",
       "    .dataframe tbody tr th:only-of-type {\n",
       "        vertical-align: middle;\n",
       "    }\n",
       "\n",
       "    .dataframe tbody tr th {\n",
       "        vertical-align: top;\n",
       "    }\n",
       "\n",
       "    .dataframe thead th {\n",
       "        text-align: right;\n",
       "    }\n",
       "</style>\n",
       "<table border=\"1\" class=\"dataframe\">\n",
       "  <thead>\n",
       "    <tr style=\"text-align: right;\">\n",
       "      <th></th>\n",
       "      <th>Drug_Name</th>\n",
       "      <th>Indication</th>\n",
       "      <th>Type</th>\n",
       "      <th>User_Reviews</th>\n",
       "      <th>Review_Link</th>\n",
       "      <th>Num_Reviews</th>\n",
       "    </tr>\n",
       "  </thead>\n",
       "  <tbody>\n",
       "    <tr>\n",
       "      <th>0</th>\n",
       "      <td>Mirena Intrauterine Device</td>\n",
       "      <td>On Label</td>\n",
       "      <td>RX</td>\n",
       "      <td>1763 Reviews</td>\n",
       "      <td>https://www.webmd.com/drugs/drugreview-20420-m...</td>\n",
       "      <td>1763</td>\n",
       "    </tr>\n",
       "    <tr>\n",
       "      <th>1</th>\n",
       "      <td>Sprintec</td>\n",
       "      <td>On Label</td>\n",
       "      <td>RX</td>\n",
       "      <td>960 Reviews</td>\n",
       "      <td>https://www.webmd.com/drugs/drugreview-64195-s...</td>\n",
       "      <td>960</td>\n",
       "    </tr>\n",
       "    <tr>\n",
       "      <th>2</th>\n",
       "      <td>YAZ</td>\n",
       "      <td>On Label</td>\n",
       "      <td>RX</td>\n",
       "      <td>683 Reviews</td>\n",
       "      <td>https://www.webmd.com/drugs/drugreview-95358-y...</td>\n",
       "      <td>683</td>\n",
       "    </tr>\n",
       "    <tr>\n",
       "      <th>3</th>\n",
       "      <td>Tri-Sprintec</td>\n",
       "      <td>On Label</td>\n",
       "      <td>RX</td>\n",
       "      <td>640 Reviews</td>\n",
       "      <td>https://www.webmd.com/drugs/drugreview-78136-t...</td>\n",
       "      <td>640</td>\n",
       "    </tr>\n",
       "    <tr>\n",
       "      <th>4</th>\n",
       "      <td>Loestrin 24 Fe tablet</td>\n",
       "      <td>On Label</td>\n",
       "      <td>RX</td>\n",
       "      <td>620 Reviews</td>\n",
       "      <td>https://www.webmd.com/drugs/drugreview-95194-l...</td>\n",
       "      <td>620</td>\n",
       "    </tr>\n",
       "    <tr>\n",
       "      <th>...</th>\n",
       "      <td>...</td>\n",
       "      <td>...</td>\n",
       "      <td>...</td>\n",
       "      <td>...</td>\n",
       "      <td>...</td>\n",
       "      <td>...</td>\n",
       "    </tr>\n",
       "    <tr>\n",
       "      <th>273</th>\n",
       "      <td>Rajani</td>\n",
       "      <td>On Label</td>\n",
       "      <td>RX</td>\n",
       "      <td>1 Reviews</td>\n",
       "      <td>https://www.webmd.com/drugs/drugreview-172682-...</td>\n",
       "      <td>1</td>\n",
       "    </tr>\n",
       "    <tr>\n",
       "      <th>274</th>\n",
       "      <td>Mibelas 24 Fe</td>\n",
       "      <td>On Label</td>\n",
       "      <td>RX</td>\n",
       "      <td>1 Reviews</td>\n",
       "      <td>https://www.webmd.com/drugs/drugreview-173400-...</td>\n",
       "      <td>1</td>\n",
       "    </tr>\n",
       "    <tr>\n",
       "      <th>275</th>\n",
       "      <td>Tri-Levlen (21) tablet</td>\n",
       "      <td>On Label</td>\n",
       "      <td>RX</td>\n",
       "      <td>1 Reviews</td>\n",
       "      <td>https://www.webmd.com/drugs/drugreview-17178-t...</td>\n",
       "      <td>1</td>\n",
       "    </tr>\n",
       "    <tr>\n",
       "      <th>276</th>\n",
       "      <td>norgestrel tablet</td>\n",
       "      <td>On Label</td>\n",
       "      <td>RX</td>\n",
       "      <td>1 Reviews</td>\n",
       "      <td>https://www.webmd.com/drugs/drugreview-8820-no...</td>\n",
       "      <td>1</td>\n",
       "    </tr>\n",
       "    <tr>\n",
       "      <th>277</th>\n",
       "      <td>Hailey 24 Fe</td>\n",
       "      <td>On Label</td>\n",
       "      <td>RX</td>\n",
       "      <td>1 Reviews</td>\n",
       "      <td>https://www.webmd.com/drugs/drugreview-176597-...</td>\n",
       "      <td>1</td>\n",
       "    </tr>\n",
       "  </tbody>\n",
       "</table>\n",
       "<p>278 rows × 6 columns</p>\n",
       "</div>"
      ],
      "text/plain": [
       "                      Drug_Name Indication Type  User_Reviews  \\\n",
       "0    Mirena Intrauterine Device   On Label   RX  1763 Reviews   \n",
       "1                      Sprintec   On Label   RX   960 Reviews   \n",
       "2                           YAZ   On Label   RX   683 Reviews   \n",
       "3                  Tri-Sprintec   On Label   RX   640 Reviews   \n",
       "4         Loestrin 24 Fe tablet   On Label   RX   620 Reviews   \n",
       "..                          ...        ...  ...           ...   \n",
       "273                      Rajani   On Label   RX     1 Reviews   \n",
       "274               Mibelas 24 Fe   On Label   RX     1 Reviews   \n",
       "275      Tri-Levlen (21) tablet   On Label   RX     1 Reviews   \n",
       "276           norgestrel tablet   On Label   RX     1 Reviews   \n",
       "277                Hailey 24 Fe   On Label   RX     1 Reviews   \n",
       "\n",
       "                                           Review_Link Num_Reviews  \n",
       "0    https://www.webmd.com/drugs/drugreview-20420-m...        1763  \n",
       "1    https://www.webmd.com/drugs/drugreview-64195-s...         960  \n",
       "2    https://www.webmd.com/drugs/drugreview-95358-y...         683  \n",
       "3    https://www.webmd.com/drugs/drugreview-78136-t...         640  \n",
       "4    https://www.webmd.com/drugs/drugreview-95194-l...         620  \n",
       "..                                                 ...         ...  \n",
       "273  https://www.webmd.com/drugs/drugreview-172682-...           1  \n",
       "274  https://www.webmd.com/drugs/drugreview-173400-...           1  \n",
       "275  https://www.webmd.com/drugs/drugreview-17178-t...           1  \n",
       "276  https://www.webmd.com/drugs/drugreview-8820-no...           1  \n",
       "277  https://www.webmd.com/drugs/drugreview-176597-...           1  \n",
       "\n",
       "[278 rows x 6 columns]"
      ]
     },
     "execution_count": 6,
     "metadata": {},
     "output_type": "execute_result"
    }
   ],
   "source": [
    "contraceptives"
   ]
  },
  {
   "cell_type": "markdown",
   "metadata": {
    "colab_type": "text",
    "id": "xJcB8eHEAXu0"
   },
   "source": [
    "# Part 2: Identify short term and long term contraceptives"
   ]
  },
  {
   "cell_type": "markdown",
   "metadata": {
    "colab_type": "text",
    "id": "pAN6Ka_oAm3Z"
   },
   "source": [
    "According to the survey program, long term contraceptives are **male or female sterilization, Norplant and the IUD** (https://dhsprogram.com/pubs/pdf/FR19/FR19.pdf?fbclid=IwAR0On3a_QrRgD3zem8DSpaVRfKBB3fxArdYEzryDViHdj2hB9zdmkub1CXs, page 56). Since sterilizations are not considered *drugs*, we will only be marking norplants and IUDs as long term and every other contraceptives are short term."
   ]
  },
  {
   "cell_type": "code",
   "execution_count": 7,
   "metadata": {
    "colab": {
     "base_uri": "https://localhost:8080/",
     "height": 187
    },
    "colab_type": "code",
    "id": "6DkBNpRSAf-w",
    "outputId": "6f7f152b-d3d6-4b48-97c9-a273aec9ae62"
   },
   "outputs": [
    {
     "data": {
      "text/plain": [
       "['progesterone Intrauterine Device',\n",
       " 'Progestasert Intrauterine Device',\n",
       " 'Mirena Intrauterine Device',\n",
       " 'Skyla Intrauterine Device',\n",
       " 'copper Intrauterine Device',\n",
       " 'levonorgestrel Intrauterine Device',\n",
       " 'Kyleena Intrauterine Device',\n",
       " 'ParaGard T 380-A Intrauterine Device',\n",
       " 'levonorgestrel 14 mcg/24 hour (3 years) intrauterine device',\n",
       " 'Liletta 19.5 mcg/24 hrs (5 yrs) 52 mg intrauterine device Contraceptives']"
      ]
     },
     "execution_count": 7,
     "metadata": {},
     "output_type": "execute_result"
    }
   ],
   "source": [
    "# Get list of IUDs\n",
    "iud_url = \"https://www.webmd.com/drugs/2/search?type=drugs&query=Intrauterine%20Device\"\n",
    "\n",
    "req = urllib.request.Request(iud_url, headers=header) \n",
    "html_page = urllib.request.urlopen( req )\n",
    "soup = BeautifulSoup(html_page)\n",
    "\n",
    "iuds = soup.find('ul', {'class': 'exact-match'}).findAll('a')\n",
    "iuds_list = []\n",
    "\n",
    "for iud in iuds:\n",
    "  iuds_list.append(iud.getText())\n",
    "  \n",
    "iuds_list"
   ]
  },
  {
   "cell_type": "code",
   "execution_count": 8,
   "metadata": {
    "colab": {
     "base_uri": "https://localhost:8080/",
     "height": 187
    },
    "colab_type": "code",
    "id": "6-tE6XD1CZUa",
    "outputId": "49bb9e98-867b-445c-930c-e78016371550"
   },
   "outputs": [
    {
     "data": {
      "text/plain": [
       "['Norplant System Kit',\n",
       " 'Retisert Implant',\n",
       " 'Yutiq Implant',\n",
       " 'Ozurdex Implant',\n",
       " 'Iluvien Implant',\n",
       " 'Zoladex Implant',\n",
       " 'fluocinolone Implant',\n",
       " 'Nexplanon Implant',\n",
       " 'goserelin Implant',\n",
       " 'Sinuva Implant']"
      ]
     },
     "execution_count": 8,
     "metadata": {},
     "output_type": "execute_result"
    }
   ],
   "source": [
    "# Get list of Norplants\n",
    "norplant_url = \"https://www.webmd.com/drugs/2/search?type=drugs&query=Norplant%20System%20implant\"\n",
    "\n",
    "req = urllib.request.Request(norplant_url, headers=header) \n",
    "html_page = urllib.request.urlopen( req )\n",
    "soup = BeautifulSoup(html_page)\n",
    "\n",
    "norplants = soup.find('ul', {'class': 'partial-match'}).findAll('a')\n",
    "norplants_list = []\n",
    "\n",
    "for norplant in norplants:\n",
    "  norplants_list.append(norplant.getText())\n",
    "  \n",
    "norplants_list"
   ]
  },
  {
   "cell_type": "code",
   "execution_count": 12,
   "metadata": {
    "colab": {
     "base_uri": "https://localhost:8080/",
     "height": 204
    },
    "colab_type": "code",
    "id": "qU5rTbbZCzua",
    "outputId": "6b81286a-bb6b-4826-8bf3-13a1dcc4dfb6"
   },
   "outputs": [
    {
     "data": {
      "text/html": [
       "<div>\n",
       "<style scoped>\n",
       "    .dataframe tbody tr th:only-of-type {\n",
       "        vertical-align: middle;\n",
       "    }\n",
       "\n",
       "    .dataframe tbody tr th {\n",
       "        vertical-align: top;\n",
       "    }\n",
       "\n",
       "    .dataframe thead th {\n",
       "        text-align: right;\n",
       "    }\n",
       "</style>\n",
       "<table border=\"1\" class=\"dataframe\">\n",
       "  <thead>\n",
       "    <tr style=\"text-align: right;\">\n",
       "      <th></th>\n",
       "      <th>Drug_Name</th>\n",
       "      <th>Indication</th>\n",
       "      <th>Type</th>\n",
       "      <th>User_Reviews</th>\n",
       "      <th>Review_Link</th>\n",
       "      <th>Num_Reviews</th>\n",
       "      <th>Long_Term</th>\n",
       "      <th>Short_Term</th>\n",
       "    </tr>\n",
       "  </thead>\n",
       "  <tbody>\n",
       "    <tr>\n",
       "      <th>0</th>\n",
       "      <td>Mirena Intrauterine Device</td>\n",
       "      <td>On Label</td>\n",
       "      <td>RX</td>\n",
       "      <td>1763 Reviews</td>\n",
       "      <td>https://www.webmd.com/drugs/drugreview-20420-m...</td>\n",
       "      <td>1763</td>\n",
       "      <td>1</td>\n",
       "      <td>0</td>\n",
       "    </tr>\n",
       "    <tr>\n",
       "      <th>1</th>\n",
       "      <td>Sprintec</td>\n",
       "      <td>On Label</td>\n",
       "      <td>RX</td>\n",
       "      <td>960 Reviews</td>\n",
       "      <td>https://www.webmd.com/drugs/drugreview-64195-s...</td>\n",
       "      <td>960</td>\n",
       "      <td>0</td>\n",
       "      <td>1</td>\n",
       "    </tr>\n",
       "    <tr>\n",
       "      <th>2</th>\n",
       "      <td>YAZ</td>\n",
       "      <td>On Label</td>\n",
       "      <td>RX</td>\n",
       "      <td>683 Reviews</td>\n",
       "      <td>https://www.webmd.com/drugs/drugreview-95358-y...</td>\n",
       "      <td>683</td>\n",
       "      <td>0</td>\n",
       "      <td>1</td>\n",
       "    </tr>\n",
       "    <tr>\n",
       "      <th>3</th>\n",
       "      <td>Tri-Sprintec</td>\n",
       "      <td>On Label</td>\n",
       "      <td>RX</td>\n",
       "      <td>640 Reviews</td>\n",
       "      <td>https://www.webmd.com/drugs/drugreview-78136-t...</td>\n",
       "      <td>640</td>\n",
       "      <td>0</td>\n",
       "      <td>1</td>\n",
       "    </tr>\n",
       "    <tr>\n",
       "      <th>4</th>\n",
       "      <td>Loestrin 24 Fe tablet</td>\n",
       "      <td>On Label</td>\n",
       "      <td>RX</td>\n",
       "      <td>620 Reviews</td>\n",
       "      <td>https://www.webmd.com/drugs/drugreview-95194-l...</td>\n",
       "      <td>620</td>\n",
       "      <td>0</td>\n",
       "      <td>1</td>\n",
       "    </tr>\n",
       "  </tbody>\n",
       "</table>\n",
       "</div>"
      ],
      "text/plain": [
       "                    Drug_Name Indication Type  User_Reviews  \\\n",
       "0  Mirena Intrauterine Device   On Label   RX  1763 Reviews   \n",
       "1                    Sprintec   On Label   RX   960 Reviews   \n",
       "2                         YAZ   On Label   RX   683 Reviews   \n",
       "3                Tri-Sprintec   On Label   RX   640 Reviews   \n",
       "4       Loestrin 24 Fe tablet   On Label   RX   620 Reviews   \n",
       "\n",
       "                                         Review_Link Num_Reviews  Long_Term  \\\n",
       "0  https://www.webmd.com/drugs/drugreview-20420-m...        1763          1   \n",
       "1  https://www.webmd.com/drugs/drugreview-64195-s...         960          0   \n",
       "2  https://www.webmd.com/drugs/drugreview-95358-y...         683          0   \n",
       "3  https://www.webmd.com/drugs/drugreview-78136-t...         640          0   \n",
       "4  https://www.webmd.com/drugs/drugreview-95194-l...         620          0   \n",
       "\n",
       "   Short_Term  \n",
       "0           0  \n",
       "1           1  \n",
       "2           1  \n",
       "3           1  \n",
       "4           1  "
      ]
     },
     "execution_count": 12,
     "metadata": {},
     "output_type": "execute_result"
    }
   ],
   "source": [
    "long_term_contraceptives = iuds_list + norplants_list\n",
    "\n",
    "def is_long_term(contraceptive, long_term_lst):\n",
    "  if contraceptive in long_term_lst:\n",
    "    return 1\n",
    "  return 0\n",
    "\n",
    "def is_short_term(contraceptive, long_term_lst):\n",
    "  if contraceptive in long_term_lst:\n",
    "    return 0\n",
    "  return 1\n",
    "\n",
    "contraceptives['Long_Term'] = contraceptives.apply(lambda row: is_long_term(row.Drug_Name, long_term_contraceptives), axis = 1)\n",
    "contraceptives['Short_Term'] = contraceptives.apply(lambda row: is_short_term(row.Drug_Name, long_term_contraceptives), axis = 1)\n",
    "contraceptives.head()"
   ]
  },
  {
   "cell_type": "markdown",
   "metadata": {
    "colab_type": "text",
    "id": "od-Fhgqk0DKh"
   },
   "source": [
    "# Part 3: Follow links to contraceptive reviews to extract reviews for each contraceptive"
   ]
  },
  {
   "cell_type": "code",
   "execution_count": 13,
   "metadata": {
    "colab": {},
    "colab_type": "code",
    "id": "bqar2BQKz5oE"
   },
   "outputs": [],
   "source": [
    "def get_reviews(url, header, num_reviews):\n",
    "  contraceptive_reviews = []\n",
    "\n",
    "  for page_ind in range((num_reviews // 5) + 1):\n",
    "    reviews_url = url + \"&pageIndex={ind}&sortby=3&conditionFilter=-1\".format(ind = page_ind)\n",
    "    req = urllib.request.Request(reviews_url, headers=header)\n",
    "    html_page = urllib.request.urlopen( req )\n",
    "    soup = BeautifulSoup(html_page)\n",
    "\n",
    "    ratings = soup.findAll('div', {'class': 'userPost'})\n",
    "\n",
    "    for i in range(len(ratings)):\n",
    "      review = ratings[i]\n",
    "      reviewer_info = review.find('p', {'class': 'reviewerInfo'}).getText()\n",
    "      comment = review.find('p', {'id': 'comFull{num}'.format(num=i+1)}).getText()\n",
    "\n",
    "      contraceptive_reviews.append([reviewer_info, comment])\n",
    "    \n",
    "  return contraceptive_reviews"
   ]
  },
  {
   "cell_type": "code",
   "execution_count": 14,
   "metadata": {
    "colab": {},
    "colab_type": "code",
    "id": "46jq-lbtNpsL"
   },
   "outputs": [],
   "source": [
    "contraceptives['Review'] = contraceptives.apply(lambda row: get_reviews(row.Review_Link, header, int(row.Num_Reviews)), axis = 1)"
   ]
  },
  {
   "cell_type": "code",
   "execution_count": 15,
   "metadata": {
    "colab": {
     "base_uri": "https://localhost:8080/",
     "height": 289
    },
    "colab_type": "code",
    "id": "ja5KkuJqRSsR",
    "outputId": "99f0d733-d57a-4a02-bae3-376561c744e1"
   },
   "outputs": [
    {
     "data": {
      "text/html": [
       "<div>\n",
       "<style scoped>\n",
       "    .dataframe tbody tr th:only-of-type {\n",
       "        vertical-align: middle;\n",
       "    }\n",
       "\n",
       "    .dataframe tbody tr th {\n",
       "        vertical-align: top;\n",
       "    }\n",
       "\n",
       "    .dataframe thead th {\n",
       "        text-align: right;\n",
       "    }\n",
       "</style>\n",
       "<table border=\"1\" class=\"dataframe\">\n",
       "  <thead>\n",
       "    <tr style=\"text-align: right;\">\n",
       "      <th></th>\n",
       "      <th>Drug_Name</th>\n",
       "      <th>Indication</th>\n",
       "      <th>Type</th>\n",
       "      <th>User_Reviews</th>\n",
       "      <th>Review_Link</th>\n",
       "      <th>Num_Reviews</th>\n",
       "      <th>Long_Term</th>\n",
       "      <th>Short_Term</th>\n",
       "      <th>Review</th>\n",
       "    </tr>\n",
       "  </thead>\n",
       "  <tbody>\n",
       "    <tr>\n",
       "      <th>0</th>\n",
       "      <td>Mirena Intrauterine Device</td>\n",
       "      <td>On Label</td>\n",
       "      <td>RX</td>\n",
       "      <td>1763 Reviews</td>\n",
       "      <td>https://www.webmd.com/drugs/drugreview-20420-m...</td>\n",
       "      <td>1763</td>\n",
       "      <td>1</td>\n",
       "      <td>0</td>\n",
       "      <td>[[Reviewer: Carouselambra, 25-34 on Treatment ...</td>\n",
       "    </tr>\n",
       "    <tr>\n",
       "      <th>1</th>\n",
       "      <td>Sprintec</td>\n",
       "      <td>On Label</td>\n",
       "      <td>RX</td>\n",
       "      <td>960 Reviews</td>\n",
       "      <td>https://www.webmd.com/drugs/drugreview-64195-s...</td>\n",
       "      <td>960</td>\n",
       "      <td>0</td>\n",
       "      <td>1</td>\n",
       "      <td>[[Reviewer: HowInTheHeck, 25-34 Female  on Tre...</td>\n",
       "    </tr>\n",
       "    <tr>\n",
       "      <th>2</th>\n",
       "      <td>YAZ</td>\n",
       "      <td>On Label</td>\n",
       "      <td>RX</td>\n",
       "      <td>683 Reviews</td>\n",
       "      <td>https://www.webmd.com/drugs/drugreview-95358-y...</td>\n",
       "      <td>683</td>\n",
       "      <td>0</td>\n",
       "      <td>1</td>\n",
       "      <td>[[Reviewer: Tish, 35-44 on Treatment for less ...</td>\n",
       "    </tr>\n",
       "    <tr>\n",
       "      <th>3</th>\n",
       "      <td>Tri-Sprintec</td>\n",
       "      <td>On Label</td>\n",
       "      <td>RX</td>\n",
       "      <td>640 Reviews</td>\n",
       "      <td>https://www.webmd.com/drugs/drugreview-78136-t...</td>\n",
       "      <td>640</td>\n",
       "      <td>0</td>\n",
       "      <td>1</td>\n",
       "      <td>[[Reviewer: 35-44 Female  on Treatment for 10 ...</td>\n",
       "    </tr>\n",
       "    <tr>\n",
       "      <th>4</th>\n",
       "      <td>Loestrin 24 Fe tablet</td>\n",
       "      <td>On Label</td>\n",
       "      <td>RX</td>\n",
       "      <td>620 Reviews</td>\n",
       "      <td>https://www.webmd.com/drugs/drugreview-95194-l...</td>\n",
       "      <td>620</td>\n",
       "      <td>0</td>\n",
       "      <td>1</td>\n",
       "      <td>[[Reviewer: NV, 35-44 Female  on Treatment for...</td>\n",
       "    </tr>\n",
       "  </tbody>\n",
       "</table>\n",
       "</div>"
      ],
      "text/plain": [
       "                    Drug_Name Indication Type  User_Reviews  \\\n",
       "0  Mirena Intrauterine Device   On Label   RX  1763 Reviews   \n",
       "1                    Sprintec   On Label   RX   960 Reviews   \n",
       "2                         YAZ   On Label   RX   683 Reviews   \n",
       "3                Tri-Sprintec   On Label   RX   640 Reviews   \n",
       "4       Loestrin 24 Fe tablet   On Label   RX   620 Reviews   \n",
       "\n",
       "                                         Review_Link Num_Reviews  Long_Term  \\\n",
       "0  https://www.webmd.com/drugs/drugreview-20420-m...        1763          1   \n",
       "1  https://www.webmd.com/drugs/drugreview-64195-s...         960          0   \n",
       "2  https://www.webmd.com/drugs/drugreview-95358-y...         683          0   \n",
       "3  https://www.webmd.com/drugs/drugreview-78136-t...         640          0   \n",
       "4  https://www.webmd.com/drugs/drugreview-95194-l...         620          0   \n",
       "\n",
       "   Short_Term                                             Review  \n",
       "0           0  [[Reviewer: Carouselambra, 25-34 on Treatment ...  \n",
       "1           1  [[Reviewer: HowInTheHeck, 25-34 Female  on Tre...  \n",
       "2           1  [[Reviewer: Tish, 35-44 on Treatment for less ...  \n",
       "3           1  [[Reviewer: 35-44 Female  on Treatment for 10 ...  \n",
       "4           1  [[Reviewer: NV, 35-44 Female  on Treatment for...  "
      ]
     },
     "execution_count": 15,
     "metadata": {},
     "output_type": "execute_result"
    }
   ],
   "source": [
    "contraceptives.head()"
   ]
  },
  {
   "cell_type": "markdown",
   "metadata": {
    "colab_type": "text",
    "id": "fTnbMv0q1iq4"
   },
   "source": [
    "# Part 4: Extract the age range of the reviewer, their contraceptive treatment length, and comment"
   ]
  },
  {
   "cell_type": "code",
   "execution_count": 16,
   "metadata": {
    "colab": {},
    "colab_type": "code",
    "id": "G9KpTqtjwNiE"
   },
   "outputs": [],
   "source": [
    "def get_treatment_length(reviewer_info):\n",
    "  rev_info_split = reviewer_info.split('Treatment for')\n",
    "  if rev_info_split[0] != reviewer_info:\n",
    "    return rev_info_split[1].split('(Patient)')[0]\n",
    "  return \"\""
   ]
  },
  {
   "cell_type": "code",
   "execution_count": 17,
   "metadata": {
    "colab": {},
    "colab_type": "code",
    "id": "gqUhjYMFYCoi"
   },
   "outputs": [],
   "source": [
    "webmd_contraceptive_reviews = contraceptives.explode(\"Review\")\n",
    "webmd_contraceptive_reviews[['Reviewer_Info','Comment']] = pd.DataFrame(webmd_contraceptive_reviews.Review.tolist(), index= webmd_contraceptive_reviews.index)\n",
    "webmd_contraceptive_reviews['Reviewer_Age_Range'] = webmd_contraceptive_reviews['Reviewer_Info'].str.extract(r'([0-9][0-9]\\-[0-9][0-9])')\n",
    "webmd_contraceptive_reviews['Treatment_Length'] = webmd_contraceptive_reviews.apply(lambda row: get_treatment_length(row.Reviewer_Info), axis = 1)\n",
    "webmd_contraceptive_reviews['Comment'] = webmd_contraceptive_reviews['Comment'].str.replace('Comment:', '').str.replace('Hide Full Comment', '')"
   ]
  },
  {
   "cell_type": "code",
   "execution_count": 18,
   "metadata": {
    "colab": {
     "base_uri": "https://localhost:8080/",
     "height": 204
    },
    "colab_type": "code",
    "id": "A0Ojai5ybkHL",
    "outputId": "edbe1bc4-4fbc-44d8-9c1b-8b99b7ceef71"
   },
   "outputs": [
    {
     "data": {
      "text/html": [
       "<div>\n",
       "<style scoped>\n",
       "    .dataframe tbody tr th:only-of-type {\n",
       "        vertical-align: middle;\n",
       "    }\n",
       "\n",
       "    .dataframe tbody tr th {\n",
       "        vertical-align: top;\n",
       "    }\n",
       "\n",
       "    .dataframe thead th {\n",
       "        text-align: right;\n",
       "    }\n",
       "</style>\n",
       "<table border=\"1\" class=\"dataframe\">\n",
       "  <thead>\n",
       "    <tr style=\"text-align: right;\">\n",
       "      <th></th>\n",
       "      <th>Drug_Name</th>\n",
       "      <th>Long_Term</th>\n",
       "      <th>Short_Term</th>\n",
       "      <th>Comment</th>\n",
       "      <th>Reviewer_Age_Range</th>\n",
       "      <th>Treatment_Length</th>\n",
       "    </tr>\n",
       "  </thead>\n",
       "  <tbody>\n",
       "    <tr>\n",
       "      <th>0</th>\n",
       "      <td>Mirena Intrauterine Device</td>\n",
       "      <td>1</td>\n",
       "      <td>0</td>\n",
       "      <td>I did initially experience excruciating, breat...</td>\n",
       "      <td>25-34</td>\n",
       "      <td>5 to less than 10 years</td>\n",
       "    </tr>\n",
       "    <tr>\n",
       "      <th>1</th>\n",
       "      <td>Mirena Intrauterine Device</td>\n",
       "      <td>1</td>\n",
       "      <td>0</td>\n",
       "      <td>Memory Loss!!! Never again on any form of birt...</td>\n",
       "      <td>35-44</td>\n",
       "      <td>2 to less than 5 years</td>\n",
       "    </tr>\n",
       "    <tr>\n",
       "      <th>2</th>\n",
       "      <td>Mirena Intrauterine Device</td>\n",
       "      <td>1</td>\n",
       "      <td>0</td>\n",
       "      <td>Horrible experience would not recommend to nob...</td>\n",
       "      <td>NaN</td>\n",
       "      <td></td>\n",
       "    </tr>\n",
       "    <tr>\n",
       "      <th>3</th>\n",
       "      <td>Mirena Intrauterine Device</td>\n",
       "      <td>1</td>\n",
       "      <td>0</td>\n",
       "      <td>I had a Mirena placed in me in 2006. I had maj...</td>\n",
       "      <td>45-54</td>\n",
       "      <td>5 to less than 10 years</td>\n",
       "    </tr>\n",
       "    <tr>\n",
       "      <th>4</th>\n",
       "      <td>Mirena Intrauterine Device</td>\n",
       "      <td>1</td>\n",
       "      <td>0</td>\n",
       "      <td>The Mirena IUD was the worst thing to ever hap...</td>\n",
       "      <td>19-24</td>\n",
       "      <td>2 to less than 5 years</td>\n",
       "    </tr>\n",
       "  </tbody>\n",
       "</table>\n",
       "</div>"
      ],
      "text/plain": [
       "                    Drug_Name  Long_Term  Short_Term  \\\n",
       "0  Mirena Intrauterine Device          1           0   \n",
       "1  Mirena Intrauterine Device          1           0   \n",
       "2  Mirena Intrauterine Device          1           0   \n",
       "3  Mirena Intrauterine Device          1           0   \n",
       "4  Mirena Intrauterine Device          1           0   \n",
       "\n",
       "                                             Comment Reviewer_Age_Range  \\\n",
       "0  I did initially experience excruciating, breat...              25-34   \n",
       "1  Memory Loss!!! Never again on any form of birt...              35-44   \n",
       "2  Horrible experience would not recommend to nob...                NaN   \n",
       "3  I had a Mirena placed in me in 2006. I had maj...              45-54   \n",
       "4  The Mirena IUD was the worst thing to ever hap...              19-24   \n",
       "\n",
       "            Treatment_Length  \n",
       "0   5 to less than 10 years   \n",
       "1    2 to less than 5 years   \n",
       "2                             \n",
       "3   5 to less than 10 years   \n",
       "4    2 to less than 5 years   "
      ]
     },
     "execution_count": 18,
     "metadata": {},
     "output_type": "execute_result"
    }
   ],
   "source": [
    "webmd_contraceptive_reviews.drop(columns=['Type', 'User_Reviews', 'Review_Link', 'Review', 'Num_Reviews', 'Indication', 'Reviewer_Info'], inplace=True)\n",
    "webmd_contraceptive_reviews.reset_index(inplace=True, drop=True)\n",
    "webmd_contraceptive_reviews.head()"
   ]
  },
  {
   "cell_type": "code",
   "execution_count": 19,
   "metadata": {
    "colab": {},
    "colab_type": "code",
    "id": "0TepshqkdYu9"
   },
   "outputs": [],
   "source": [
    "webmd_contraceptive_reviews.to_csv('webmd_contraceptive_reviews.csv')"
   ]
  },
  {
   "cell_type": "code",
   "execution_count": null,
   "metadata": {
    "colab": {},
    "colab_type": "code",
    "id": "aozyQjwXyNAo"
   },
   "outputs": [],
   "source": []
  }
 ],
 "metadata": {
  "colab": {
   "authorship_tag": "ABX9TyMNcfTAwRcl5oLUgbRPi64I",
   "collapsed_sections": [],
   "name": "Contraceptive_Reviews.ipynb",
   "provenance": []
  },
  "kernelspec": {
   "display_name": "Python 3",
   "language": "python",
   "name": "python3"
  }
 },
 "nbformat": 4,
 "nbformat_minor": 1
}
