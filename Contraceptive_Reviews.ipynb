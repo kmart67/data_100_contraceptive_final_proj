{
  "nbformat": 4,
  "nbformat_minor": 0,
  "metadata": {
    "colab": {
      "name": "Contraceptive_Reviews.ipynb",
      "provenance": [],
      "collapsed_sections": [],
      "authorship_tag": "ABX9TyMNcfTAwRcl5oLUgbRPi64I"
    },
    "kernelspec": {
      "name": "python3",
      "display_name": "Python 3"
    }
  },
  "cells": [
    {
      "cell_type": "markdown",
      "metadata": {
        "id": "-HroGVI4zklc",
        "colab_type": "text"
      },
      "source": [
        "# Part 1: Extract list of all contraceptives listed on WebMD with reviews. "
      ]
    },
    {
      "cell_type": "code",
      "metadata": {
        "id": "nFjS_osizthc",
        "colab_type": "code",
        "colab": {}
      },
      "source": [
        "import pandas as pd\n",
        "import html5lib\n",
        "import requests\n",
        "from bs4 import BeautifulSoup\n",
        "import re\n",
        "import urllib"
      ],
      "execution_count": 0,
      "outputs": []
    },
    {
      "cell_type": "code",
      "metadata": {
        "id": "snjRYp9Wq7Yl",
        "colab_type": "code",
        "colab": {}
      },
      "source": [
        "#extract list of all contraceptives in webmd and save them into a DataFrame\n",
        "contraception_url = \"https://www.webmd.com/drugs/2/condition-3454/pregnancy%20contraception\"\n",
        "\n",
        "header = {\n",
        "  \"User-Agent\": \"Mozilla/5.0 (X11; Linux x86_64) AppleWebKit/537.36 (KHTML, like Gecko) Chrome/50.0.2661.75 Safari/537.36\",\n",
        "  \"X-Requested-With\": \"XMLHttpRequest\"\n",
        "}\n",
        "\n",
        "r = requests.get(contraception_url, headers=header)\n",
        "\n",
        "contraceptives = pd.read_html(r.text)[0]"
      ],
      "execution_count": 0,
      "outputs": []
    },
    {
      "cell_type": "code",
      "metadata": {
        "id": "igPfAXVTuBgJ",
        "colab_type": "code",
        "colab": {}
      },
      "source": [
        "#going to extract links to drug reviews\n",
        "req = urllib.request.Request(contraception_url, headers={'User-Agent' : \"Magic Browser\"}) \n",
        "html_page = urllib.request.urlopen( req )\n",
        "soup = BeautifulSoup(html_page)\n",
        "\n",
        "contraceptive_table = soup.find('table', {'class': 'drugs-treatments-table'})\n",
        "review_links = []\n",
        "\n",
        "for drug_link in contraceptive_table.findAll('a'):\n",
        "    link = drug_link.get('href')\n",
        "    if \"drugreview\" in link:\n",
        "      review_links.append(\"https://www.webmd.com\" + link)\n",
        "\n",
        "contraceptives['Review_Link'] = pd.Series(review_links)\n",
        "contraceptives.rename(columns={\"Drug Name\": \"Drug_Name\", \"User Reviews\": \"User_Reviews\"}, inplace=True)"
      ],
      "execution_count": 0,
      "outputs": []
    },
    {
      "cell_type": "code",
      "metadata": {
        "id": "pmaYYnKCrtPd",
        "colab_type": "code",
        "colab": {}
      },
      "source": [
        "reviews = contraceptives[\"User_Reviews\"].str.split(\" \", n = 1, expand = True)\n",
        "contraceptives[\"Num_Reviews\"] = reviews[0]\n",
        "contraceptives = contraceptives[contraceptives[\"Num_Reviews\"] > \"0\"]"
      ],
      "execution_count": 0,
      "outputs": []
    },
    {
      "cell_type": "code",
      "metadata": {
        "id": "w27YjJoWti-N",
        "colab_type": "code",
        "outputId": "e08ce49c-178f-4326-a11a-80d48150a19e",
        "colab": {
          "base_uri": "https://localhost:8080/",
          "height": 419
        }
      },
      "source": [
        "contraceptives"
      ],
      "execution_count": 5,
      "outputs": [
        {
          "output_type": "execute_result",
          "data": {
            "text/html": [
              "<div>\n",
              "<style scoped>\n",
              "    .dataframe tbody tr th:only-of-type {\n",
              "        vertical-align: middle;\n",
              "    }\n",
              "\n",
              "    .dataframe tbody tr th {\n",
              "        vertical-align: top;\n",
              "    }\n",
              "\n",
              "    .dataframe thead th {\n",
              "        text-align: right;\n",
              "    }\n",
              "</style>\n",
              "<table border=\"1\" class=\"dataframe\">\n",
              "  <thead>\n",
              "    <tr style=\"text-align: right;\">\n",
              "      <th></th>\n",
              "      <th>Drug_Name</th>\n",
              "      <th>Indication</th>\n",
              "      <th>Type</th>\n",
              "      <th>User_Reviews</th>\n",
              "      <th>Review_Link</th>\n",
              "      <th>Num_Reviews</th>\n",
              "    </tr>\n",
              "  </thead>\n",
              "  <tbody>\n",
              "    <tr>\n",
              "      <th>0</th>\n",
              "      <td>Mirena Intrauterine Device</td>\n",
              "      <td>On Label</td>\n",
              "      <td>RX</td>\n",
              "      <td>1763 Reviews</td>\n",
              "      <td>https://www.webmd.com/drugs/drugreview-20420-m...</td>\n",
              "      <td>1763</td>\n",
              "    </tr>\n",
              "    <tr>\n",
              "      <th>1</th>\n",
              "      <td>Sprintec</td>\n",
              "      <td>On Label</td>\n",
              "      <td>RX</td>\n",
              "      <td>960 Reviews</td>\n",
              "      <td>https://www.webmd.com/drugs/drugreview-64195-s...</td>\n",
              "      <td>960</td>\n",
              "    </tr>\n",
              "    <tr>\n",
              "      <th>2</th>\n",
              "      <td>YAZ</td>\n",
              "      <td>On Label</td>\n",
              "      <td>RX</td>\n",
              "      <td>683 Reviews</td>\n",
              "      <td>https://www.webmd.com/drugs/drugreview-95358-y...</td>\n",
              "      <td>683</td>\n",
              "    </tr>\n",
              "    <tr>\n",
              "      <th>3</th>\n",
              "      <td>Tri-Sprintec</td>\n",
              "      <td>On Label</td>\n",
              "      <td>RX</td>\n",
              "      <td>640 Reviews</td>\n",
              "      <td>https://www.webmd.com/drugs/drugreview-78136-t...</td>\n",
              "      <td>640</td>\n",
              "    </tr>\n",
              "    <tr>\n",
              "      <th>4</th>\n",
              "      <td>Loestrin 24 Fe tablet</td>\n",
              "      <td>On Label</td>\n",
              "      <td>RX</td>\n",
              "      <td>620 Reviews</td>\n",
              "      <td>https://www.webmd.com/drugs/drugreview-95194-l...</td>\n",
              "      <td>620</td>\n",
              "    </tr>\n",
              "    <tr>\n",
              "      <th>...</th>\n",
              "      <td>...</td>\n",
              "      <td>...</td>\n",
              "      <td>...</td>\n",
              "      <td>...</td>\n",
              "      <td>...</td>\n",
              "      <td>...</td>\n",
              "    </tr>\n",
              "    <tr>\n",
              "      <th>273</th>\n",
              "      <td>VCF Gel with Prefilled Applicator</td>\n",
              "      <td>On Label</td>\n",
              "      <td>OTC</td>\n",
              "      <td>1 Reviews</td>\n",
              "      <td>https://www.webmd.com/drugs/drugreview-9226-gy...</td>\n",
              "      <td>1</td>\n",
              "    </tr>\n",
              "    <tr>\n",
              "      <th>274</th>\n",
              "      <td>Femynor</td>\n",
              "      <td>On Label</td>\n",
              "      <td>RX</td>\n",
              "      <td>1 Reviews</td>\n",
              "      <td>https://www.webmd.com/drugs/drugreview-8820-no...</td>\n",
              "      <td>1</td>\n",
              "    </tr>\n",
              "    <tr>\n",
              "      <th>275</th>\n",
              "      <td>TriNessa Lo</td>\n",
              "      <td>On Label</td>\n",
              "      <td>RX</td>\n",
              "      <td>1 Reviews</td>\n",
              "      <td>https://www.webmd.com/drugs/drugreview-6749-et...</td>\n",
              "      <td>1</td>\n",
              "    </tr>\n",
              "    <tr>\n",
              "      <th>276</th>\n",
              "      <td>Tri-Lo-Estarylla</td>\n",
              "      <td>On Label</td>\n",
              "      <td>RX</td>\n",
              "      <td>1 Reviews</td>\n",
              "      <td>https://www.webmd.com/drugs/drugreview-17178-t...</td>\n",
              "      <td>1</td>\n",
              "    </tr>\n",
              "    <tr>\n",
              "      <th>277</th>\n",
              "      <td>Layolis Fe</td>\n",
              "      <td>On Label</td>\n",
              "      <td>RX</td>\n",
              "      <td>1 Reviews</td>\n",
              "      <td>https://www.webmd.com/drugs/drugreview-176597-...</td>\n",
              "      <td>1</td>\n",
              "    </tr>\n",
              "  </tbody>\n",
              "</table>\n",
              "<p>278 rows × 6 columns</p>\n",
              "</div>"
            ],
            "text/plain": [
              "                             Drug_Name  ... Num_Reviews\n",
              "0           Mirena Intrauterine Device  ...        1763\n",
              "1                             Sprintec  ...         960\n",
              "2                                  YAZ  ...         683\n",
              "3                         Tri-Sprintec  ...         640\n",
              "4                Loestrin 24 Fe tablet  ...         620\n",
              "..                                 ...  ...         ...\n",
              "273  VCF Gel with Prefilled Applicator  ...           1\n",
              "274                            Femynor  ...           1\n",
              "275                        TriNessa Lo  ...           1\n",
              "276                   Tri-Lo-Estarylla  ...           1\n",
              "277                         Layolis Fe  ...           1\n",
              "\n",
              "[278 rows x 6 columns]"
            ]
          },
          "metadata": {
            "tags": []
          },
          "execution_count": 5
        }
      ]
    },
    {
      "cell_type": "markdown",
      "metadata": {
        "id": "xJcB8eHEAXu0",
        "colab_type": "text"
      },
      "source": [
        "# Part 2: Identify short term and long term contraceptives"
      ]
    },
    {
      "cell_type": "markdown",
      "metadata": {
        "id": "pAN6Ka_oAm3Z",
        "colab_type": "text"
      },
      "source": [
        "According to the survey program, long term contraceptives are **male or female sterilization, Norplant and the IUD** (https://dhsprogram.com/pubs/pdf/FR19/FR19.pdf?fbclid=IwAR0On3a_QrRgD3zem8DSpaVRfKBB3fxArdYEzryDViHdj2hB9zdmkub1CXs, page 56). Since sterilizations are not considered *drugs*, we will only be marking norplants and IUDs as long term and every other contraceptives are short term."
      ]
    },
    {
      "cell_type": "code",
      "metadata": {
        "id": "6DkBNpRSAf-w",
        "colab_type": "code",
        "colab": {
          "base_uri": "https://localhost:8080/",
          "height": 187
        },
        "outputId": "6f7f152b-d3d6-4b48-97c9-a273aec9ae62"
      },
      "source": [
        "# Get list of IUDs\n",
        "iud_url = \"https://www.webmd.com/drugs/2/search?type=drugs&query=Intrauterine%20Device\"\n",
        "\n",
        "req = urllib.request.Request(iud_url, headers=header) \n",
        "html_page = urllib.request.urlopen( req )\n",
        "soup = BeautifulSoup(html_page)\n",
        "\n",
        "iuds = soup.find('ul', {'class': 'exact-match'}).findAll('a')\n",
        "iuds_list = []\n",
        "\n",
        "for iud in iuds:\n",
        "  iuds_list.append(iud.getText())\n",
        "  \n",
        "iuds_list"
      ],
      "execution_count": 6,
      "outputs": [
        {
          "output_type": "execute_result",
          "data": {
            "text/plain": [
              "['Progestasert Intrauterine Device',\n",
              " 'progesterone Intrauterine Device',\n",
              " 'Mirena Intrauterine Device',\n",
              " 'Skyla Intrauterine Device',\n",
              " 'copper Intrauterine Device',\n",
              " 'levonorgestrel Intrauterine Device',\n",
              " 'Kyleena Intrauterine Device',\n",
              " 'ParaGard T 380-A Intrauterine Device',\n",
              " 'levonorgestrel 14 mcg/24 hour (3 years) intrauterine device',\n",
              " 'Liletta 19.5 mcg/24 hrs (5 yrs) 52 mg intrauterine device Contraceptives']"
            ]
          },
          "metadata": {
            "tags": []
          },
          "execution_count": 6
        }
      ]
    },
    {
      "cell_type": "code",
      "metadata": {
        "id": "6-tE6XD1CZUa",
        "colab_type": "code",
        "colab": {
          "base_uri": "https://localhost:8080/",
          "height": 187
        },
        "outputId": "49bb9e98-867b-445c-930c-e78016371550"
      },
      "source": [
        "# Get list of Norplants\n",
        "norplant_url = \"https://www.webmd.com/drugs/2/search?type=drugs&query=Norplant%20System%20implant\"\n",
        "\n",
        "req = urllib.request.Request(norplant_url, headers=header) \n",
        "html_page = urllib.request.urlopen( req )\n",
        "soup = BeautifulSoup(html_page)\n",
        "\n",
        "norplants = soup.find('ul', {'class': 'partial-match'}).findAll('a')\n",
        "norplants_list = []\n",
        "\n",
        "for norplant in norplants:\n",
        "  norplants_list.append(norplant.getText())\n",
        "  \n",
        "norplants_list"
      ],
      "execution_count": 7,
      "outputs": [
        {
          "output_type": "execute_result",
          "data": {
            "text/plain": [
              "['Norplant System Kit',\n",
              " 'Nexplanon Implant',\n",
              " 'goserelin Implant',\n",
              " 'Sinuva Implant',\n",
              " 'fluocinolone Implant',\n",
              " 'Ozurdex Implant',\n",
              " 'Retisert Implant',\n",
              " 'Zoladex Implant',\n",
              " 'Yutiq Implant',\n",
              " 'Iluvien Implant']"
            ]
          },
          "metadata": {
            "tags": []
          },
          "execution_count": 7
        }
      ]
    },
    {
      "cell_type": "code",
      "metadata": {
        "id": "qU5rTbbZCzua",
        "colab_type": "code",
        "colab": {
          "base_uri": "https://localhost:8080/",
          "height": 204
        },
        "outputId": "6b81286a-bb6b-4826-8bf3-13a1dcc4dfb6"
      },
      "source": [
        "long_term_contraceptives = iuds_list + norplants_list\n",
        "\n",
        "def is_long_term(contraceptive, long_term_lst):\n",
        "  if contraceptive in long_term_lst:\n",
        "    return 1\n",
        "  return 0\n",
        "\n",
        "def is_short_term(contraceptive, long_term_lst):\n",
        "  if contraceptive in long_term_lst:\n",
        "    return 0\n",
        "  return 1\n",
        "\n",
        "contraceptives['Long_Term'] = contraceptives.apply(lambda row: is_long_term(row.Drug_Name, long_term_contraceptives), axis = 1)\n",
        "contraceptives['Short_Term'] = contraceptives.apply(lambda row: is_short_term(row.Drug_Name, long_term_contraceptives), axis = 1)\n",
        "contraceptives.head()"
      ],
      "execution_count": 8,
      "outputs": [
        {
          "output_type": "execute_result",
          "data": {
            "text/html": [
              "<div>\n",
              "<style scoped>\n",
              "    .dataframe tbody tr th:only-of-type {\n",
              "        vertical-align: middle;\n",
              "    }\n",
              "\n",
              "    .dataframe tbody tr th {\n",
              "        vertical-align: top;\n",
              "    }\n",
              "\n",
              "    .dataframe thead th {\n",
              "        text-align: right;\n",
              "    }\n",
              "</style>\n",
              "<table border=\"1\" class=\"dataframe\">\n",
              "  <thead>\n",
              "    <tr style=\"text-align: right;\">\n",
              "      <th></th>\n",
              "      <th>Drug_Name</th>\n",
              "      <th>Indication</th>\n",
              "      <th>Type</th>\n",
              "      <th>User_Reviews</th>\n",
              "      <th>Review_Link</th>\n",
              "      <th>Num_Reviews</th>\n",
              "      <th>Long_Term</th>\n",
              "      <th>Short_Term</th>\n",
              "    </tr>\n",
              "  </thead>\n",
              "  <tbody>\n",
              "    <tr>\n",
              "      <th>0</th>\n",
              "      <td>Mirena Intrauterine Device</td>\n",
              "      <td>On Label</td>\n",
              "      <td>RX</td>\n",
              "      <td>1763 Reviews</td>\n",
              "      <td>https://www.webmd.com/drugs/drugreview-20420-m...</td>\n",
              "      <td>1763</td>\n",
              "      <td>1</td>\n",
              "      <td>0</td>\n",
              "    </tr>\n",
              "    <tr>\n",
              "      <th>1</th>\n",
              "      <td>Sprintec</td>\n",
              "      <td>On Label</td>\n",
              "      <td>RX</td>\n",
              "      <td>960 Reviews</td>\n",
              "      <td>https://www.webmd.com/drugs/drugreview-64195-s...</td>\n",
              "      <td>960</td>\n",
              "      <td>0</td>\n",
              "      <td>1</td>\n",
              "    </tr>\n",
              "    <tr>\n",
              "      <th>2</th>\n",
              "      <td>YAZ</td>\n",
              "      <td>On Label</td>\n",
              "      <td>RX</td>\n",
              "      <td>683 Reviews</td>\n",
              "      <td>https://www.webmd.com/drugs/drugreview-95358-y...</td>\n",
              "      <td>683</td>\n",
              "      <td>0</td>\n",
              "      <td>1</td>\n",
              "    </tr>\n",
              "    <tr>\n",
              "      <th>3</th>\n",
              "      <td>Tri-Sprintec</td>\n",
              "      <td>On Label</td>\n",
              "      <td>RX</td>\n",
              "      <td>640 Reviews</td>\n",
              "      <td>https://www.webmd.com/drugs/drugreview-78136-t...</td>\n",
              "      <td>640</td>\n",
              "      <td>0</td>\n",
              "      <td>1</td>\n",
              "    </tr>\n",
              "    <tr>\n",
              "      <th>4</th>\n",
              "      <td>Loestrin 24 Fe tablet</td>\n",
              "      <td>On Label</td>\n",
              "      <td>RX</td>\n",
              "      <td>620 Reviews</td>\n",
              "      <td>https://www.webmd.com/drugs/drugreview-95194-l...</td>\n",
              "      <td>620</td>\n",
              "      <td>0</td>\n",
              "      <td>1</td>\n",
              "    </tr>\n",
              "  </tbody>\n",
              "</table>\n",
              "</div>"
            ],
            "text/plain": [
              "                    Drug_Name Indication  ... Long_Term Short_Term\n",
              "0  Mirena Intrauterine Device   On Label  ...         1          0\n",
              "1                    Sprintec   On Label  ...         0          1\n",
              "2                         YAZ   On Label  ...         0          1\n",
              "3                Tri-Sprintec   On Label  ...         0          1\n",
              "4       Loestrin 24 Fe tablet   On Label  ...         0          1\n",
              "\n",
              "[5 rows x 8 columns]"
            ]
          },
          "metadata": {
            "tags": []
          },
          "execution_count": 8
        }
      ]
    },
    {
      "cell_type": "markdown",
      "metadata": {
        "id": "od-Fhgqk0DKh",
        "colab_type": "text"
      },
      "source": [
        "# Part 3: Follow links to contraceptive reviews to extract reviews for each contraceptive"
      ]
    },
    {
      "cell_type": "code",
      "metadata": {
        "id": "bqar2BQKz5oE",
        "colab_type": "code",
        "colab": {}
      },
      "source": [
        "def get_reviews(url, header, num_reviews):\n",
        "  contraceptive_reviews = []\n",
        "\n",
        "  for page_ind in range((num_reviews // 5) + 1):\n",
        "    reviews_url = url + \"&pageIndex={ind}&sortby=3&conditionFilter=-1\".format(ind = page_ind)\n",
        "    req = urllib.request.Request(reviews_url, headers=header)\n",
        "    html_page = urllib.request.urlopen( req )\n",
        "    soup = BeautifulSoup(html_page)\n",
        "\n",
        "    ratings = soup.findAll('div', {'class': 'userPost'})\n",
        "\n",
        "    for i in range(len(ratings)):\n",
        "      review = ratings[i]\n",
        "      reviewer_info = review.find('p', {'class': 'reviewerInfo'}).getText()\n",
        "      comment = review.find('p', {'id': 'comFull{num}'.format(num=i+1)}).getText()\n",
        "\n",
        "      contraceptive_reviews.append([reviewer_info, comment])\n",
        "    \n",
        "  return contraceptive_reviews"
      ],
      "execution_count": 0,
      "outputs": []
    },
    {
      "cell_type": "code",
      "metadata": {
        "id": "46jq-lbtNpsL",
        "colab_type": "code",
        "colab": {}
      },
      "source": [
        "contraceptives['Review'] = contraceptives.apply(lambda row: get_reviews(row.Review_Link, header, int(row.Num_Reviews)), axis = 1)"
      ],
      "execution_count": 0,
      "outputs": []
    },
    {
      "cell_type": "code",
      "metadata": {
        "id": "ja5KkuJqRSsR",
        "colab_type": "code",
        "outputId": "99f0d733-d57a-4a02-bae3-376561c744e1",
        "colab": {
          "base_uri": "https://localhost:8080/",
          "height": 289
        }
      },
      "source": [
        "contraceptives.head()"
      ],
      "execution_count": 11,
      "outputs": [
        {
          "output_type": "execute_result",
          "data": {
            "text/html": [
              "<div>\n",
              "<style scoped>\n",
              "    .dataframe tbody tr th:only-of-type {\n",
              "        vertical-align: middle;\n",
              "    }\n",
              "\n",
              "    .dataframe tbody tr th {\n",
              "        vertical-align: top;\n",
              "    }\n",
              "\n",
              "    .dataframe thead th {\n",
              "        text-align: right;\n",
              "    }\n",
              "</style>\n",
              "<table border=\"1\" class=\"dataframe\">\n",
              "  <thead>\n",
              "    <tr style=\"text-align: right;\">\n",
              "      <th></th>\n",
              "      <th>Drug_Name</th>\n",
              "      <th>Indication</th>\n",
              "      <th>Type</th>\n",
              "      <th>User_Reviews</th>\n",
              "      <th>Review_Link</th>\n",
              "      <th>Num_Reviews</th>\n",
              "      <th>Long_Term</th>\n",
              "      <th>Short_Term</th>\n",
              "      <th>Review</th>\n",
              "    </tr>\n",
              "  </thead>\n",
              "  <tbody>\n",
              "    <tr>\n",
              "      <th>0</th>\n",
              "      <td>Mirena Intrauterine Device</td>\n",
              "      <td>On Label</td>\n",
              "      <td>RX</td>\n",
              "      <td>1763 Reviews</td>\n",
              "      <td>https://www.webmd.com/drugs/drugreview-20420-m...</td>\n",
              "      <td>1763</td>\n",
              "      <td>1</td>\n",
              "      <td>0</td>\n",
              "      <td>[[Reviewer: Carouselambra, 25-34 on Treatment ...</td>\n",
              "    </tr>\n",
              "    <tr>\n",
              "      <th>1</th>\n",
              "      <td>Sprintec</td>\n",
              "      <td>On Label</td>\n",
              "      <td>RX</td>\n",
              "      <td>960 Reviews</td>\n",
              "      <td>https://www.webmd.com/drugs/drugreview-64195-s...</td>\n",
              "      <td>960</td>\n",
              "      <td>0</td>\n",
              "      <td>1</td>\n",
              "      <td>[[Reviewer: HowInTheHeck, 25-34 Female  on Tre...</td>\n",
              "    </tr>\n",
              "    <tr>\n",
              "      <th>2</th>\n",
              "      <td>YAZ</td>\n",
              "      <td>On Label</td>\n",
              "      <td>RX</td>\n",
              "      <td>683 Reviews</td>\n",
              "      <td>https://www.webmd.com/drugs/drugreview-95358-y...</td>\n",
              "      <td>683</td>\n",
              "      <td>0</td>\n",
              "      <td>1</td>\n",
              "      <td>[[Reviewer: Tish, 35-44 on Treatment for less ...</td>\n",
              "    </tr>\n",
              "    <tr>\n",
              "      <th>3</th>\n",
              "      <td>Tri-Sprintec</td>\n",
              "      <td>On Label</td>\n",
              "      <td>RX</td>\n",
              "      <td>640 Reviews</td>\n",
              "      <td>https://www.webmd.com/drugs/drugreview-78136-t...</td>\n",
              "      <td>640</td>\n",
              "      <td>0</td>\n",
              "      <td>1</td>\n",
              "      <td>[[Reviewer: 35-44 Female  on Treatment for 10 ...</td>\n",
              "    </tr>\n",
              "    <tr>\n",
              "      <th>4</th>\n",
              "      <td>Loestrin 24 Fe tablet</td>\n",
              "      <td>On Label</td>\n",
              "      <td>RX</td>\n",
              "      <td>620 Reviews</td>\n",
              "      <td>https://www.webmd.com/drugs/drugreview-95194-l...</td>\n",
              "      <td>620</td>\n",
              "      <td>0</td>\n",
              "      <td>1</td>\n",
              "      <td>[[Reviewer: NV, 35-44 Female  on Treatment for...</td>\n",
              "    </tr>\n",
              "  </tbody>\n",
              "</table>\n",
              "</div>"
            ],
            "text/plain": [
              "                    Drug_Name  ...                                             Review\n",
              "0  Mirena Intrauterine Device  ...  [[Reviewer: Carouselambra, 25-34 on Treatment ...\n",
              "1                    Sprintec  ...  [[Reviewer: HowInTheHeck, 25-34 Female  on Tre...\n",
              "2                         YAZ  ...  [[Reviewer: Tish, 35-44 on Treatment for less ...\n",
              "3                Tri-Sprintec  ...  [[Reviewer: 35-44 Female  on Treatment for 10 ...\n",
              "4       Loestrin 24 Fe tablet  ...  [[Reviewer: NV, 35-44 Female  on Treatment for...\n",
              "\n",
              "[5 rows x 9 columns]"
            ]
          },
          "metadata": {
            "tags": []
          },
          "execution_count": 11
        }
      ]
    },
    {
      "cell_type": "markdown",
      "metadata": {
        "id": "fTnbMv0q1iq4",
        "colab_type": "text"
      },
      "source": [
        "# Part 4: Extract the age range of the reviewer, their contraceptive treatment length, and comment"
      ]
    },
    {
      "cell_type": "code",
      "metadata": {
        "id": "G9KpTqtjwNiE",
        "colab_type": "code",
        "colab": {}
      },
      "source": [
        "def get_treatment_length(reviewer_info):\n",
        "  rev_info_split = reviewer_info.split('Treatment for')\n",
        "  if rev_info_split[0] != reviewer_info:\n",
        "    return rev_info_split[1].split('(Patient)')[0]\n",
        "  return \"\""
      ],
      "execution_count": 0,
      "outputs": []
    },
    {
      "cell_type": "code",
      "metadata": {
        "id": "gqUhjYMFYCoi",
        "colab_type": "code",
        "colab": {}
      },
      "source": [
        "webmd_contraceptive_reviews = contraceptives.explode(\"Review\")\n",
        "webmd_contraceptive_reviews[['Reviewer_Info','Comment']] = pd.DataFrame(webmd_contraceptive_reviews.Review.tolist(), index= webmd_contraceptive_reviews.index)\n",
        "webmd_contraceptive_reviews['Reviewer_Age_Range'] = webmd_contraceptive_reviews['Reviewer_Info'].str.extract(r'([0-9][0-9]\\-[0-9][0-9])')\n",
        "webmd_contraceptive_reviews['Treatment_Length'] = webmd_contraceptive_reviews.apply(lambda row: get_treatment_length(row.Reviewer_Info), axis = 1)\n",
        "webmd_contraceptive_reviews['Comment'] = webmd_contraceptive_reviews['Comment'].str.replace('Comment:', '').str.replace('Hide Full Comment', '')"
      ],
      "execution_count": 0,
      "outputs": []
    },
    {
      "cell_type": "code",
      "metadata": {
        "id": "A0Ojai5ybkHL",
        "colab_type": "code",
        "outputId": "edbe1bc4-4fbc-44d8-9c1b-8b99b7ceef71",
        "colab": {
          "base_uri": "https://localhost:8080/",
          "height": 204
        }
      },
      "source": [
        "webmd_contraceptive_reviews.drop(columns=['Type', 'User_Reviews', 'Review_Link', 'Review', 'Num_Reviews', 'Indication', 'Reviewer_Info'], inplace=True)\n",
        "webmd_contraceptive_reviews.reset_index(inplace=True, drop=True)\n",
        "webmd_contraceptive_reviews.head()"
      ],
      "execution_count": 14,
      "outputs": [
        {
          "output_type": "execute_result",
          "data": {
            "text/html": [
              "<div>\n",
              "<style scoped>\n",
              "    .dataframe tbody tr th:only-of-type {\n",
              "        vertical-align: middle;\n",
              "    }\n",
              "\n",
              "    .dataframe tbody tr th {\n",
              "        vertical-align: top;\n",
              "    }\n",
              "\n",
              "    .dataframe thead th {\n",
              "        text-align: right;\n",
              "    }\n",
              "</style>\n",
              "<table border=\"1\" class=\"dataframe\">\n",
              "  <thead>\n",
              "    <tr style=\"text-align: right;\">\n",
              "      <th></th>\n",
              "      <th>Drug_Name</th>\n",
              "      <th>Long_Term</th>\n",
              "      <th>Short_Term</th>\n",
              "      <th>Comment</th>\n",
              "      <th>Reviewer_Age_Range</th>\n",
              "      <th>Treatment_Length</th>\n",
              "    </tr>\n",
              "  </thead>\n",
              "  <tbody>\n",
              "    <tr>\n",
              "      <th>0</th>\n",
              "      <td>Mirena Intrauterine Device</td>\n",
              "      <td>1</td>\n",
              "      <td>0</td>\n",
              "      <td>I did initially experience excruciating, breat...</td>\n",
              "      <td>25-34</td>\n",
              "      <td>5 to less than 10 years</td>\n",
              "    </tr>\n",
              "    <tr>\n",
              "      <th>1</th>\n",
              "      <td>Mirena Intrauterine Device</td>\n",
              "      <td>1</td>\n",
              "      <td>0</td>\n",
              "      <td>Memory Loss!!! Never again on any form of birt...</td>\n",
              "      <td>35-44</td>\n",
              "      <td>2 to less than 5 years</td>\n",
              "    </tr>\n",
              "    <tr>\n",
              "      <th>2</th>\n",
              "      <td>Mirena Intrauterine Device</td>\n",
              "      <td>1</td>\n",
              "      <td>0</td>\n",
              "      <td>Horrible experience would not recommend to nob...</td>\n",
              "      <td>NaN</td>\n",
              "      <td></td>\n",
              "    </tr>\n",
              "    <tr>\n",
              "      <th>3</th>\n",
              "      <td>Mirena Intrauterine Device</td>\n",
              "      <td>1</td>\n",
              "      <td>0</td>\n",
              "      <td>I had a Mirena placed in me in 2006. I had maj...</td>\n",
              "      <td>45-54</td>\n",
              "      <td>5 to less than 10 years</td>\n",
              "    </tr>\n",
              "    <tr>\n",
              "      <th>4</th>\n",
              "      <td>Mirena Intrauterine Device</td>\n",
              "      <td>1</td>\n",
              "      <td>0</td>\n",
              "      <td>The Mirena IUD was the worst thing to ever hap...</td>\n",
              "      <td>19-24</td>\n",
              "      <td>2 to less than 5 years</td>\n",
              "    </tr>\n",
              "  </tbody>\n",
              "</table>\n",
              "</div>"
            ],
            "text/plain": [
              "                    Drug_Name  ...           Treatment_Length\n",
              "0  Mirena Intrauterine Device  ...   5 to less than 10 years \n",
              "1  Mirena Intrauterine Device  ...    2 to less than 5 years \n",
              "2  Mirena Intrauterine Device  ...                           \n",
              "3  Mirena Intrauterine Device  ...   5 to less than 10 years \n",
              "4  Mirena Intrauterine Device  ...    2 to less than 5 years \n",
              "\n",
              "[5 rows x 6 columns]"
            ]
          },
          "metadata": {
            "tags": []
          },
          "execution_count": 14
        }
      ]
    },
    {
      "cell_type": "code",
      "metadata": {
        "id": "0TepshqkdYu9",
        "colab_type": "code",
        "colab": {}
      },
      "source": [
        "webmd_contraceptive_reviews.to_csv('webmd_contraceptive_reviews.csv')\n",
        "!cp webmd_contraceptive_reviews.csv \"drive/My Drive/\""
      ],
      "execution_count": 0,
      "outputs": []
    },
    {
      "cell_type": "code",
      "metadata": {
        "id": "aozyQjwXyNAo",
        "colab_type": "code",
        "colab": {}
      },
      "source": [
        ""
      ],
      "execution_count": 0,
      "outputs": []
    }
  ]
}